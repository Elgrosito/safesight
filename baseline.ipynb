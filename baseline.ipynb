{
 "cells": [
  {
   "cell_type": "code",
   "execution_count": 45,
   "metadata": {},
   "outputs": [],
   "source": [
    "import tensorflow as tf\n",
    "from tensorflow.keras.models import Sequential\n",
    "from tensorflow.keras.layers import Dense, Dropout, Flatten\n",
    "from tensorflow.keras.layers import Conv2D, MaxPooling2D"
   ]
  },
  {
   "cell_type": "code",
   "execution_count": 56,
   "metadata": {},
   "outputs": [
    {
     "name": "stdout",
     "output_type": "stream",
     "text": [
      "Found 2665 images belonging to 3 classes.\n",
      "Found 86 images belonging to 3 classes.\n"
     ]
    }
   ],
   "source": [
    "import tensorflow as tf\n",
    "from tensorflow.keras.preprocessing.image import ImageDataGenerator\n",
    "\n",
    "# Definir las rutas de las carpetas de entrenamiento y prueba\n",
    "train_data_dir = '/Users/julianajuarez/code/JuliJuarez/safesight/raw_data/train_imgs'\n",
    "test_data_dir = '/Users/julianajuarez/code/JuliJuarez/safesight/raw_data/test_imgs'\n",
    "\n",
    "data_gen_train = datagen.flow_from_directory(\n",
    "    train_data_dir,\n",
    "    target_size=(224, 224),\n",
    "    batch_size=32,\n",
    "    shuffle=True,\n",
    "    subset='training'\n",
    ")\n",
    "data_gen_test = datagen.flow_from_directory(\n",
    "    test_data_dir,\n",
    "    target_size=(224, 224),\n",
    "    batch_size=32,\n",
    "    shuffle=True,\n",
    "    subset='validation'\n",
    ")\n",
    "\n",
    "# Obtener los datos de entrenamiento y prueba y las etiquetas correspondientes\n",
    "x_train, y_train = next(train_generator)\n",
    "x_test, y_test = next(test_generator)\n",
    "\n",
    "# Obtener la forma de los datos de entrada\n",
    "input_shape = x_train.shape[1:]\n"
   ]
  },
  {
   "cell_type": "code",
   "execution_count": 60,
   "metadata": {},
   "outputs": [
    {
     "name": "stdout",
     "output_type": "stream",
     "text": [
      "2\n"
     ]
    }
   ],
   "source": [
    "print(classes)"
   ]
  },
  {
   "cell_type": "code",
   "execution_count": 67,
   "metadata": {},
   "outputs": [],
   "source": [
    "model_base = tf.keras.models.Sequential([\n",
    "    tf.keras.layers.Flatten(input_shape=input_shape),\n",
    "    tf.keras.layers.Dense(256, activation=\"relu\"),\n",
    "    tf.keras.layers.Dense(128, activation=\"relu\"),\n",
    "    tf.keras.layers.Dense(3, activation=\"sigmoid\")\n",
    "])"
   ]
  },
  {
   "cell_type": "code",
   "execution_count": 68,
   "metadata": {},
   "outputs": [],
   "source": [
    "# Kinda Complex Model\n",
    "model = Sequential()\n",
    "model.add(Conv2D(32, kernel_size=(3, 3), activation='relu', input_shape=input_shape))\n",
    "model.add(Conv2D(64, (3, 3), activation='relu'))\n",
    "model.add(MaxPooling2D(pool_size=(2, 2)))\n",
    "model.add(Dropout(0.25))\n",
    "model.add(Flatten())\n",
    "model.add(Dense(128, activation='relu'))\n",
    "model.add(Dropout(0.5))\n",
    "model.add(Dense(10, activation='softmax'))"
   ]
  },
  {
   "cell_type": "code",
   "execution_count": 69,
   "metadata": {},
   "outputs": [
    {
     "name": "stderr",
     "output_type": "stream",
     "text": [
      "WARNING:absl:At this time, the v2.11+ optimizer `tf.keras.optimizers.Adam` runs slowly on M1/M2 Macs, please use the legacy Keras optimizer instead, located at `tf.keras.optimizers.legacy.Adam`.\n",
      "WARNING:absl:There is a known slowdown when using v2.11+ Keras optimizers on M1/M2 Macs. Falling back to the legacy Keras optimizer, i.e., `tf.keras.optimizers.legacy.Adam`.\n"
     ]
    },
    {
     "name": "stdout",
     "output_type": "stream",
     "text": [
      "Epoch 1/50\n",
      "1/1 [==============================] - 0s 291ms/step - loss: 1.1323 - accuracy: 0.3438 - val_loss: 4.1467 - val_accuracy: 0.3125\n",
      "Epoch 2/50\n",
      "1/1 [==============================] - 0s 14ms/step - loss: 3.1027 - accuracy: 0.5625 - val_loss: 1.8557 - val_accuracy: 0.3125\n",
      "Epoch 3/50\n",
      "1/1 [==============================] - 0s 14ms/step - loss: 1.2538 - accuracy: 0.5625 - val_loss: 1.2765 - val_accuracy: 0.1250\n",
      "Epoch 4/50\n",
      "1/1 [==============================] - 0s 15ms/step - loss: 1.1658 - accuracy: 0.4062 - val_loss: 1.2211 - val_accuracy: 0.1875\n",
      "Epoch 5/50\n",
      "1/1 [==============================] - 0s 16ms/step - loss: 1.0971 - accuracy: 0.4375 - val_loss: 1.3117 - val_accuracy: 0.2812\n",
      "Epoch 6/50\n",
      "1/1 [==============================] - 0s 16ms/step - loss: 0.7668 - accuracy: 0.7812 - val_loss: 1.6356 - val_accuracy: 0.3125\n",
      "Epoch 7/50\n",
      "1/1 [==============================] - 0s 16ms/step - loss: 0.7750 - accuracy: 0.6250 - val_loss: 1.7730 - val_accuracy: 0.3125\n",
      "Epoch 8/50\n",
      "1/1 [==============================] - 0s 15ms/step - loss: 0.7798 - accuracy: 0.5938 - val_loss: 1.5856 - val_accuracy: 0.3125\n",
      "Epoch 9/50\n",
      "1/1 [==============================] - 0s 16ms/step - loss: 0.6081 - accuracy: 0.7188 - val_loss: 1.3882 - val_accuracy: 0.2188\n",
      "Epoch 10/50\n",
      "1/1 [==============================] - 0s 17ms/step - loss: 0.5558 - accuracy: 0.9688 - val_loss: 1.3784 - val_accuracy: 0.1562\n",
      "Epoch 11/50\n",
      "1/1 [==============================] - 0s 18ms/step - loss: 0.5598 - accuracy: 0.9688 - val_loss: 1.5328 - val_accuracy: 0.2500\n",
      "Epoch 12/50\n",
      "1/1 [==============================] - 0s 16ms/step - loss: 0.4341 - accuracy: 0.9375 - val_loss: 1.8290 - val_accuracy: 0.3125\n",
      "Epoch 13/50\n",
      "1/1 [==============================] - 0s 23ms/step - loss: 0.4196 - accuracy: 0.8125 - val_loss: 1.9998 - val_accuracy: 0.3125\n",
      "Epoch 14/50\n",
      "1/1 [==============================] - 0s 32ms/step - loss: 0.4100 - accuracy: 0.8125 - val_loss: 1.9367 - val_accuracy: 0.3125\n",
      "Epoch 15/50\n",
      "1/1 [==============================] - 0s 22ms/step - loss: 0.3339 - accuracy: 0.8750 - val_loss: 1.7825 - val_accuracy: 0.1250\n",
      "Epoch 16/50\n",
      "1/1 [==============================] - 0s 18ms/step - loss: 0.2913 - accuracy: 0.9688 - val_loss: 1.7295 - val_accuracy: 0.1250\n",
      "Epoch 17/50\n",
      "1/1 [==============================] - 0s 17ms/step - loss: 0.2969 - accuracy: 1.0000 - val_loss: 1.8338 - val_accuracy: 0.1250\n",
      "Epoch 18/50\n",
      "1/1 [==============================] - 0s 20ms/step - loss: 0.2525 - accuracy: 1.0000 - val_loss: 2.0529 - val_accuracy: 0.1250\n",
      "Epoch 19/50\n",
      "1/1 [==============================] - 0s 17ms/step - loss: 0.2129 - accuracy: 0.9688 - val_loss: 2.2770 - val_accuracy: 0.2188\n",
      "Epoch 20/50\n",
      "1/1 [==============================] - 0s 17ms/step - loss: 0.2089 - accuracy: 0.9062 - val_loss: 2.3645 - val_accuracy: 0.2188\n",
      "Epoch 21/50\n",
      "1/1 [==============================] - 0s 18ms/step - loss: 0.1953 - accuracy: 0.9375 - val_loss: 2.3177 - val_accuracy: 0.1250\n",
      "Epoch 22/50\n",
      "1/1 [==============================] - 0s 17ms/step - loss: 0.1631 - accuracy: 0.9688 - val_loss: 2.2459 - val_accuracy: 0.1250\n",
      "Epoch 23/50\n",
      "1/1 [==============================] - 0s 15ms/step - loss: 0.1431 - accuracy: 1.0000 - val_loss: 2.2475 - val_accuracy: 0.1250\n",
      "Epoch 24/50\n",
      "1/1 [==============================] - 0s 16ms/step - loss: 0.1390 - accuracy: 1.0000 - val_loss: 2.3374 - val_accuracy: 0.1250\n",
      "Epoch 25/50\n",
      "1/1 [==============================] - 0s 16ms/step - loss: 0.1265 - accuracy: 1.0000 - val_loss: 2.4893 - val_accuracy: 0.1250\n",
      "Epoch 26/50\n",
      "1/1 [==============================] - 0s 16ms/step - loss: 0.1089 - accuracy: 1.0000 - val_loss: 2.6404 - val_accuracy: 0.1250\n",
      "Epoch 27/50\n",
      "1/1 [==============================] - 0s 16ms/step - loss: 0.0965 - accuracy: 1.0000 - val_loss: 2.7459 - val_accuracy: 0.1250\n",
      "Epoch 28/50\n",
      "1/1 [==============================] - 0s 17ms/step - loss: 0.0890 - accuracy: 1.0000 - val_loss: 2.7966 - val_accuracy: 0.1250\n",
      "Epoch 29/50\n",
      "1/1 [==============================] - 0s 16ms/step - loss: 0.0825 - accuracy: 1.0000 - val_loss: 2.8122 - val_accuracy: 0.1250\n",
      "Epoch 30/50\n",
      "1/1 [==============================] - 0s 15ms/step - loss: 0.0741 - accuracy: 1.0000 - val_loss: 2.8252 - val_accuracy: 0.1250\n",
      "Epoch 31/50\n",
      "1/1 [==============================] - 0s 16ms/step - loss: 0.0648 - accuracy: 1.0000 - val_loss: 2.8661 - val_accuracy: 0.1250\n",
      "Epoch 32/50\n",
      "1/1 [==============================] - 0s 16ms/step - loss: 0.0580 - accuracy: 1.0000 - val_loss: 2.9383 - val_accuracy: 0.1250\n",
      "Epoch 33/50\n",
      "1/1 [==============================] - 0s 16ms/step - loss: 0.0539 - accuracy: 1.0000 - val_loss: 3.0279 - val_accuracy: 0.1250\n",
      "Epoch 34/50\n",
      "1/1 [==============================] - 0s 16ms/step - loss: 0.0507 - accuracy: 1.0000 - val_loss: 3.1136 - val_accuracy: 0.1250\n",
      "Epoch 35/50\n",
      "1/1 [==============================] - 0s 17ms/step - loss: 0.0458 - accuracy: 1.0000 - val_loss: 3.1843 - val_accuracy: 0.1250\n",
      "Epoch 36/50\n",
      "1/1 [==============================] - 0s 16ms/step - loss: 0.0403 - accuracy: 1.0000 - val_loss: 3.2452 - val_accuracy: 0.1250\n",
      "Epoch 37/50\n",
      "1/1 [==============================] - 0s 17ms/step - loss: 0.0360 - accuracy: 1.0000 - val_loss: 3.3006 - val_accuracy: 0.1250\n",
      "Epoch 38/50\n",
      "1/1 [==============================] - 0s 16ms/step - loss: 0.0336 - accuracy: 1.0000 - val_loss: 3.3549 - val_accuracy: 0.1562\n",
      "Epoch 39/50\n",
      "1/1 [==============================] - 0s 17ms/step - loss: 0.0317 - accuracy: 1.0000 - val_loss: 3.4082 - val_accuracy: 0.1562\n",
      "Epoch 40/50\n",
      "1/1 [==============================] - 0s 16ms/step - loss: 0.0291 - accuracy: 1.0000 - val_loss: 3.4630 - val_accuracy: 0.1562\n",
      "Epoch 41/50\n",
      "1/1 [==============================] - 0s 16ms/step - loss: 0.0261 - accuracy: 1.0000 - val_loss: 3.5174 - val_accuracy: 0.1562\n",
      "Epoch 42/50\n",
      "1/1 [==============================] - 0s 16ms/step - loss: 0.0234 - accuracy: 1.0000 - val_loss: 3.5682 - val_accuracy: 0.1250\n",
      "Epoch 43/50\n",
      "1/1 [==============================] - 0s 18ms/step - loss: 0.0214 - accuracy: 1.0000 - val_loss: 3.6145 - val_accuracy: 0.1250\n",
      "Epoch 44/50\n",
      "1/1 [==============================] - 0s 20ms/step - loss: 0.0200 - accuracy: 1.0000 - val_loss: 3.6540 - val_accuracy: 0.1250\n",
      "Epoch 45/50\n",
      "1/1 [==============================] - 0s 18ms/step - loss: 0.0188 - accuracy: 1.0000 - val_loss: 3.6898 - val_accuracy: 0.1250\n",
      "Epoch 46/50\n",
      "1/1 [==============================] - 0s 20ms/step - loss: 0.0176 - accuracy: 1.0000 - val_loss: 3.7252 - val_accuracy: 0.1250\n",
      "Epoch 47/50\n",
      "1/1 [==============================] - 0s 15ms/step - loss: 0.0162 - accuracy: 1.0000 - val_loss: 3.7645 - val_accuracy: 0.1250\n",
      "Epoch 48/50\n",
      "1/1 [==============================] - 0s 16ms/step - loss: 0.0149 - accuracy: 1.0000 - val_loss: 3.8100 - val_accuracy: 0.1562\n",
      "Epoch 49/50\n",
      "1/1 [==============================] - 0s 15ms/step - loss: 0.0138 - accuracy: 1.0000 - val_loss: 3.8615 - val_accuracy: 0.1562\n",
      "Epoch 50/50\n",
      "1/1 [==============================] - 0s 16ms/step - loss: 0.0128 - accuracy: 1.0000 - val_loss: 3.9168 - val_accuracy: 0.1562\n"
     ]
    },
    {
     "data": {
      "text/plain": [
       "<keras.src.callbacks.History at 0x28c8f3070>"
      ]
     },
     "execution_count": 69,
     "metadata": {},
     "output_type": "execute_result"
    }
   ],
   "source": [
    "optimizer = tf.keras.optimizers.Adam()\n",
    "loss = tf.keras.losses.CategoricalCrossentropy()\n",
    "metrics = [\"accuracy\"]\n",
    "\n",
    "model_base.compile(optimizer=optimizer, loss=loss, metrics=metrics)\n",
    "model_base.fit(x_train, y_train,\n",
    "               batch_size=32,\n",
    "               epochs=50,\n",
    "               verbose=1,\n",
    "               validation_data=(x_test, y_test))"
   ]
  },
  {
   "cell_type": "code",
   "execution_count": 70,
   "metadata": {},
   "outputs": [
    {
     "name": "stdout",
     "output_type": "stream",
     "text": [
      "Test loss: 3.916830539703369\n",
      "Test accuracy: 0.15625\n"
     ]
    }
   ],
   "source": [
    "score = model_base.evaluate(x_test, y_test, verbose=0)\n",
    "print('Test loss:', score[0])\n",
    "print('Test accuracy:', score[1])"
   ]
  },
  {
   "cell_type": "code",
   "execution_count": null,
   "metadata": {},
   "outputs": [],
   "source": []
  }
 ],
 "metadata": {
  "kernelspec": {
   "display_name": "Python 3 (ipykernel)",
   "language": "python",
   "name": "python3"
  },
  "language_info": {
   "codemirror_mode": {
    "name": "ipython",
    "version": 3
   },
   "file_extension": ".py",
   "mimetype": "text/x-python",
   "name": "python",
   "nbconvert_exporter": "python",
   "pygments_lexer": "ipython3",
   "version": "3.10.6"
  }
 },
 "nbformat": 4,
 "nbformat_minor": 4
}
