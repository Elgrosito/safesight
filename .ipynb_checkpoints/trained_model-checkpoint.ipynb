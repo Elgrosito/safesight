{
 "cells": [
  {
   "cell_type": "code",
   "execution_count": null,
   "metadata": {},
   "outputs": [],
   "source": [
    "#import tensorflow as tf\n",
    "#import tensorflow_hub as hub\n",
    "#\n",
    "#url = \"https://tfhub.dev/google/tf2-preview/mobilenet_v2/feature_vector/4\"\n",
    "#mobilenetv2 = hub.KerasLayer(url, input_shape=(224,224,3))"
   ]
  },
  {
   "cell_type": "code",
   "execution_count": null,
   "metadata": {},
   "outputs": [],
   "source": [
    "#Congelar el modelo descargado\n",
    "#mobilenetv2.trainable = False"
   ]
  },
  {
   "cell_type": "code",
   "execution_count": null,
   "metadata": {},
   "outputs": [],
   "source": [
    "#modelo = tf.keras.Sequential([\n",
    "#    mobilenetv2,\n",
    "#    tf.keras.layers.Dense(3, activation='softmax')\n",
    "#])"
   ]
  },
  {
   "cell_type": "code",
   "execution_count": null,
   "metadata": {},
   "outputs": [],
   "source": [
    "#modelo.summary()"
   ]
  },
  {
   "cell_type": "code",
   "execution_count": null,
   "metadata": {},
   "outputs": [],
   "source": [
    "#Compilar como siempre\n",
    "#modelo.compile(\n",
    "#    optimizer='adam',\n",
    "#    loss='categorical_crossentropy',\n",
    "#    metrics=['accuracy']\n",
    "#)"
   ]
  },
  {
   "cell_type": "code",
   "execution_count": null,
   "metadata": {},
   "outputs": [],
   "source": [
    "#Entrenar el modelo\n",
    "#EPOCAS = 50\n",
    "#\n",
    "#historial = modelo.fit(\n",
    "#    data_gen_entrenamiento, epochs=EPOCAS, batch_size=32,\n",
    "#    validation_data=data_gen_pruebas\n",
    "#)"
   ]
  }
 ],
 "metadata": {
  "language_info": {
   "name": "python"
  },
  "orig_nbformat": 4
 },
 "nbformat": 4,
 "nbformat_minor": 2
}
