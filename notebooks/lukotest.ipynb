{
 "cells": [
  {
   "cell_type": "code",
   "execution_count": 1,
   "id": "c444f26e",
   "metadata": {},
   "outputs": [],
   "source": [
    "import cv2\n",
    "import os\n",
    "import subprocess\n",
    "import shlex"
   ]
  },
  {
   "cell_type": "code",
   "execution_count": 2,
   "id": "e54ba4f7",
   "metadata": {},
   "outputs": [],
   "source": [
    "path_test_1 = \"./WV121.mp4\"\n",
    "path_test_2 = \"./WV111.mp4\"\n",
    "path_test_3 = \"\"\n",
    "path_test_4 = \"\""
   ]
  },
  {
   "cell_type": "code",
   "execution_count": 3,
   "id": "050ba8cb",
   "metadata": {},
   "outputs": [],
   "source": [
    "#WEIGHTS = F:\\yolov5\\yolov5-master\\runs\\train\\exp7\\weights\\best.pt\n",
    "EXPERIMENT = \"exp7\"\n",
    "TEST_VIDEO = \"WV121.mp4\"\n",
    "MIN_CONFIDENCE = 0.8"
   ]
  },
  {
   "cell_type": "code",
   "execution_count": 4,
   "id": "7f84cf87",
   "metadata": {},
   "outputs": [],
   "source": [
    "batch_size = 16\n",
    "num_epochs = 5\n",
    "data_yaml = \"F:\\yolov5\\yolov5-master\\data\\dataset.yaml\"\n",
    "yolov5s = \"yolov5s.pt\"\n",
    "hyp_yaml = \"F:\\yolov5\\yolov5-master\\data\\hyps\\hyp.scratch-low.yaml\""
   ]
  },
  {
   "cell_type": "code",
   "execution_count": 5,
   "id": "0f0819bf",
   "metadata": {},
   "outputs": [],
   "source": [
    "assert os.path.exists(path_test_1)\n",
    "#assert os.path.exists(WEIGHTS)"
   ]
  },
  {
   "cell_type": "code",
   "execution_count": 6,
   "id": "6d4e3be6",
   "metadata": {},
   "outputs": [],
   "source": [
    "#print(cv2.getBuildInformation())"
   ]
  },
  {
   "cell_type": "code",
   "execution_count": 7,
   "id": "398d59df",
   "metadata": {},
   "outputs": [
    {
     "name": "stdout",
     "output_type": "stream",
     "text": [
      " Volume in drive F has no label.\n",
      " Volume Serial Number is A4E7-EA2A\n",
      "\n",
      " Directory of F:\\yolov5\\yolov5-master\n",
      "\n",
      "06/30/2023  08:33 PM    <DIR>          .\n",
      "06/30/2023  08:33 PM    <DIR>          ..\n",
      "06/26/2023  02:14 PM             3,701 .dockerignore\n",
      "06/26/2023  02:14 PM                75 .gitattributes\n",
      "06/26/2023  02:14 PM    <DIR>          .github\n",
      "06/26/2023  02:14 PM             3,998 .gitignore\n",
      "06/30/2023  12:10 AM    <DIR>          .ipynb_checkpoints\n",
      "06/26/2023  02:14 PM             1,748 .pre-commit-config.yaml\n",
      "06/26/2023  02:14 PM             8,009 benchmarks.py\n",
      "06/26/2023  02:14 PM               393 CITATION.cff\n",
      "06/26/2023  02:14 PM    <DIR>          classify\n",
      "06/26/2023  02:14 PM             5,009 CONTRIBUTING.md\n",
      "06/28/2023  08:05 PM    <DIR>          data\n",
      "06/28/2023  08:02 PM    <DIR>          dataset\n",
      "11/02/2022  10:50 AM               264 dataset.yaml\n",
      "06/26/2023  02:14 PM            14,320 detect.py\n",
      "06/26/2023  02:14 PM            41,198 export.py\n",
      "06/25/2023  02:26 PM       227,428,778 file_yolo_5.zip\n",
      "06/26/2023  02:14 PM             7,769 hubconf.py\n",
      "06/26/2023  02:14 PM            34,523 LICENSE\n",
      "06/30/2023  08:33 PM            23,320 lukotest.ipynb\n",
      "06/28/2023  05:42 PM    <DIR>          models\n",
      "06/26/2023  02:14 PM            41,498 README.md\n",
      "06/26/2023  02:14 PM            40,508 README.zh-CN.md\n",
      "06/26/2023  02:14 PM             1,554 requirements.txt\n",
      "06/28/2023  08:12 PM    <DIR>          runs\n",
      "06/26/2023  02:14 PM    <DIR>          segment\n",
      "06/26/2023  02:14 PM             1,727 setup.cfg\n",
      "06/29/2023  08:37 PM    <DIR>          test_images\n",
      "06/26/2023  02:14 PM            33,881 train.py\n",
      "06/26/2023  02:14 PM            40,917 tutorial.ipynb\n",
      "06/30/2023  12:12 AM             1,847 Untitled5.ipynb\n",
      "06/28/2023  06:05 PM    <DIR>          utils\n",
      "06/26/2023  02:14 PM            20,452 val.py\n",
      "05/05/2022  04:58 PM           871,678 WV111.mp4\n",
      "05/05/2022  04:58 PM           517,972 WV121.mp4\n",
      "06/28/2023  07:02 PM        14,808,437 yolov5s.pt\n",
      "06/28/2023  08:08 PM    <DIR>          __pycache__\n",
      "              25 File(s)    243,953,576 bytes\n",
      "              13 Dir(s)  925,323,837,440 bytes free\n"
     ]
    }
   ],
   "source": [
    "!dir"
   ]
  },
  {
   "cell_type": "code",
   "execution_count": 8,
   "id": "bc3ca493",
   "metadata": {},
   "outputs": [
    {
     "name": "stdout",
     "output_type": "stream",
     "text": [
      "/f/yolov5/yolov5-master/WV121.mp4\n"
     ]
    }
   ],
   "source": [
    "!realpath WV121.mp4"
   ]
  },
  {
   "cell_type": "code",
   "execution_count": 9,
   "id": "5fe35827",
   "metadata": {},
   "outputs": [
    {
     "name": "stdout",
     "output_type": "stream",
     "text": [
      "/f/yolov5/yolov5-master/best.pt\n"
     ]
    }
   ],
   "source": [
    "!realpath best.pt"
   ]
  },
  {
   "cell_type": "code",
   "execution_count": 10,
   "id": "dd5c6aa0",
   "metadata": {},
   "outputs": [
    {
     "name": "stdout",
     "output_type": "stream",
     "text": [
      "# Path to the dataset\n",
      "path: ../dataset  # dataset root dir\n",
      "train: images/train  # train images (relative to 'path') 4000 images\n",
      "val: images/val  # val images (relative to 'path') 156 images\n",
      "test:  # test images (optional)\n",
      "\n",
      "# Classes\n",
      "names:\n",
      "  0: Knife\n",
      "  1: Handgun\n"
     ]
    }
   ],
   "source": [
    "!cat  dataset.yaml"
   ]
  },
  {
   "cell_type": "code",
   "execution_count": 11,
   "id": "462555a6",
   "metadata": {},
   "outputs": [],
   "source": [
    "def process_video_test(video_path):\n",
    "    video = cv2.VideoCapture(video_path)\n",
    "\n",
    "    while video.isOpened():\n",
    "        ret, frame = video.read()\n",
    "\n",
    "        if not ret:\n",
    "            break\n",
    "\n",
    "        cv2.imshow('Video', frame)\n",
    "\n",
    "        if cv2.waitKey(1) == 27:\n",
    "            break\n",
    "        cv2.waitKey(25)\n",
    "    video.release()\n",
    "    cv2.destroyAllWindows()"
   ]
  },
  {
   "cell_type": "code",
   "execution_count": 12,
   "id": "954f595e",
   "metadata": {},
   "outputs": [],
   "source": [
    "def run_object_detection(experiment, test_video, min_conf):\n",
    "    weights = f\"F:/yolov5/yolov5-master/runs/train/{experiment}/weights/best.pt\"\n",
    "    command = f\"python detect.py --source {test_video} --conf {min_conf}  --weights {weights}\"\n",
    "    process = subprocess.Popen(command, stdout=subprocess.PIPE, stderr=subprocess.STDOUT, shell=True)\n",
    "    \n",
    "    while True:\n",
    "        output = process.stdout.readline().decode().strip()\n",
    "        if output == '' and process.poll() is not None:\n",
    "            break\n",
    "        if output:\n",
    "            print(output)\n",
    "    \n",
    "    if process.poll() is None:\n",
    "        process.kill()"
   ]
  },
  {
   "cell_type": "code",
   "execution_count": 13,
   "id": "0ce8191a",
   "metadata": {},
   "outputs": [],
   "source": [
    "def run_train_yolo(batch: int, epochs: int, data: str, weights: str, hyp: str = None):\n",
    "    command = f\"python train.py --img 640 --batch {batch} --epochs {epochs} --data {data} --weights {weights}\"\n",
    "    process = subprocess.Popen(command, stdout=subprocess.PIPE, stderr=subprocess.STDOUT, shell=True)\n",
    "    if hyp is not None:\n",
    "        command += f\" --hyp {hyp}\"\n",
    "    \n",
    "    subprocess.run(command, shell=True)"
   ]
  },
  {
   "cell_type": "code",
   "execution_count": 14,
   "id": "7b68f5f9",
   "metadata": {},
   "outputs": [
    {
     "name": "stdout",
     "output_type": "stream",
     "text": [
      "\u001b[34m\u001b[1mdetect: \u001b[0mweights=['F:/yolov5/yolov5-master/runs/train/exp7/weights/best.pt'], source=WV121.mp4, data=data\\coco128.yaml, imgsz=[640, 640], conf_thres=0.8, iou_thres=0.45, max_det=1000, device=, view_img=False, save_txt=False, save_conf=False, save_crop=False, nosave=False, classes=None, agnostic_nms=False, augment=False, visualize=False, update=False, project=runs\\detect, name=exp, exist_ok=False, line_thickness=3, hide_labels=False, hide_conf=False, half=False, dnn=False, vid_stride=1\n",
      "YOLOv5  2023-6-26 Python-3.11.0 torch-2.0.1 CUDA:0 (NVIDIA GeForce GTX 1050 Ti, 4096MiB)\n",
      "Fusing layers...\n",
      "Model summary: 157 layers, 7015519 parameters, 0 gradients, 15.8 GFLOPs\n",
      "video 1/1 (1/127) F:\\yolov5\\yolov5-master\\WV121.mp4: 384x640 (no detections), 54.0ms\n",
      "video 1/1 (2/127) F:\\yolov5\\yolov5-master\\WV121.mp4: 384x640 (no detections), 15.0ms\n",
      "video 1/1 (3/127) F:\\yolov5\\yolov5-master\\WV121.mp4: 384x640 (no detections), 14.0ms\n",
      "video 1/1 (4/127) F:\\yolov5\\yolov5-master\\WV121.mp4: 384x640 (no detections), 14.0ms\n",
      "video 1/1 (5/127) F:\\yolov5\\yolov5-master\\WV121.mp4: 384x640 (no detections), 13.0ms\n",
      "video 1/1 (6/127) F:\\yolov5\\yolov5-master\\WV121.mp4: 384x640 (no detections), 14.0ms\n",
      "video 1/1 (7/127) F:\\yolov5\\yolov5-master\\WV121.mp4: 384x640 (no detections), 14.0ms\n",
      "video 1/1 (8/127) F:\\yolov5\\yolov5-master\\WV121.mp4: 384x640 (no detections), 13.0ms\n",
      "video 1/1 (9/127) F:\\yolov5\\yolov5-master\\WV121.mp4: 384x640 (no detections), 12.0ms\n",
      "video 1/1 (10/127) F:\\yolov5\\yolov5-master\\WV121.mp4: 384x640 (no detections), 12.0ms\n",
      "video 1/1 (11/127) F:\\yolov5\\yolov5-master\\WV121.mp4: 384x640 (no detections), 12.0ms\n",
      "video 1/1 (12/127) F:\\yolov5\\yolov5-master\\WV121.mp4: 384x640 (no detections), 12.0ms\n",
      "video 1/1 (13/127) F:\\yolov5\\yolov5-master\\WV121.mp4: 384x640 (no detections), 12.0ms\n",
      "video 1/1 (14/127) F:\\yolov5\\yolov5-master\\WV121.mp4: 384x640 (no detections), 12.0ms\n",
      "video 1/1 (15/127) F:\\yolov5\\yolov5-master\\WV121.mp4: 384x640 (no detections), 11.0ms\n",
      "video 1/1 (16/127) F:\\yolov5\\yolov5-master\\WV121.mp4: 384x640 (no detections), 12.0ms\n",
      "video 1/1 (17/127) F:\\yolov5\\yolov5-master\\WV121.mp4: 384x640 (no detections), 11.0ms\n",
      "video 1/1 (18/127) F:\\yolov5\\yolov5-master\\WV121.mp4: 384x640 (no detections), 14.0ms\n",
      "video 1/1 (19/127) F:\\yolov5\\yolov5-master\\WV121.mp4: 384x640 (no detections), 14.0ms\n",
      "video 1/1 (20/127) F:\\yolov5\\yolov5-master\\WV121.mp4: 384x640 (no detections), 13.0ms\n",
      "video 1/1 (21/127) F:\\yolov5\\yolov5-master\\WV121.mp4: 384x640 (no detections), 14.0ms\n",
      "video 1/1 (22/127) F:\\yolov5\\yolov5-master\\WV121.mp4: 384x640 (no detections), 13.0ms\n",
      "video 1/1 (23/127) F:\\yolov5\\yolov5-master\\WV121.mp4: 384x640 (no detections), 13.0ms\n",
      "video 1/1 (24/127) F:\\yolov5\\yolov5-master\\WV121.mp4: 384x640 (no detections), 11.0ms\n",
      "video 1/1 (25/127) F:\\yolov5\\yolov5-master\\WV121.mp4: 384x640 (no detections), 11.0ms\n",
      "video 1/1 (26/127) F:\\yolov5\\yolov5-master\\WV121.mp4: 384x640 (no detections), 12.0ms\n",
      "video 1/1 (27/127) F:\\yolov5\\yolov5-master\\WV121.mp4: 384x640 (no detections), 11.0ms\n",
      "video 1/1 (28/127) F:\\yolov5\\yolov5-master\\WV121.mp4: 384x640 (no detections), 12.0ms\n",
      "video 1/1 (29/127) F:\\yolov5\\yolov5-master\\WV121.mp4: 384x640 (no detections), 11.0ms\n",
      "video 1/1 (30/127) F:\\yolov5\\yolov5-master\\WV121.mp4: 384x640 (no detections), 11.0ms\n",
      "video 1/1 (31/127) F:\\yolov5\\yolov5-master\\WV121.mp4: 384x640 (no detections), 21.0ms\n",
      "video 1/1 (32/127) F:\\yolov5\\yolov5-master\\WV121.mp4: 384x640 (no detections), 15.0ms\n",
      "video 1/1 (33/127) F:\\yolov5\\yolov5-master\\WV121.mp4: 384x640 (no detections), 16.0ms\n",
      "video 1/1 (34/127) F:\\yolov5\\yolov5-master\\WV121.mp4: 384x640 (no detections), 15.0ms\n",
      "video 1/1 (35/127) F:\\yolov5\\yolov5-master\\WV121.mp4: 384x640 (no detections), 16.0ms\n",
      "video 1/1 (36/127) F:\\yolov5\\yolov5-master\\WV121.mp4: 384x640 (no detections), 14.0ms\n",
      "video 1/1 (37/127) F:\\yolov5\\yolov5-master\\WV121.mp4: 384x640 (no detections), 15.0ms\n",
      "video 1/1 (38/127) F:\\yolov5\\yolov5-master\\WV121.mp4: 384x640 (no detections), 14.0ms\n",
      "video 1/1 (39/127) F:\\yolov5\\yolov5-master\\WV121.mp4: 384x640 (no detections), 14.0ms\n",
      "video 1/1 (40/127) F:\\yolov5\\yolov5-master\\WV121.mp4: 384x640 (no detections), 15.0ms\n",
      "video 1/1 (41/127) F:\\yolov5\\yolov5-master\\WV121.mp4: 384x640 (no detections), 16.0ms\n",
      "video 1/1 (42/127) F:\\yolov5\\yolov5-master\\WV121.mp4: 384x640 (no detections), 15.0ms\n",
      "video 1/1 (43/127) F:\\yolov5\\yolov5-master\\WV121.mp4: 384x640 (no detections), 14.0ms\n",
      "video 1/1 (44/127) F:\\yolov5\\yolov5-master\\WV121.mp4: 384x640 (no detections), 11.0ms\n",
      "video 1/1 (45/127) F:\\yolov5\\yolov5-master\\WV121.mp4: 384x640 (no detections), 12.0ms\n",
      "video 1/1 (46/127) F:\\yolov5\\yolov5-master\\WV121.mp4: 384x640 (no detections), 11.0ms\n",
      "video 1/1 (47/127) F:\\yolov5\\yolov5-master\\WV121.mp4: 384x640 (no detections), 11.0ms\n",
      "video 1/1 (48/127) F:\\yolov5\\yolov5-master\\WV121.mp4: 384x640 (no detections), 14.0ms\n",
      "video 1/1 (49/127) F:\\yolov5\\yolov5-master\\WV121.mp4: 384x640 (no detections), 13.0ms\n",
      "video 1/1 (50/127) F:\\yolov5\\yolov5-master\\WV121.mp4: 384x640 (no detections), 11.0ms\n",
      "video 1/1 (51/127) F:\\yolov5\\yolov5-master\\WV121.mp4: 384x640 (no detections), 12.0ms\n",
      "video 1/1 (52/127) F:\\yolov5\\yolov5-master\\WV121.mp4: 384x640 (no detections), 11.0ms\n",
      "video 1/1 (53/127) F:\\yolov5\\yolov5-master\\WV121.mp4: 384x640 (no detections), 17.0ms\n",
      "video 1/1 (54/127) F:\\yolov5\\yolov5-master\\WV121.mp4: 384x640 (no detections), 15.0ms\n",
      "video 1/1 (55/127) F:\\yolov5\\yolov5-master\\WV121.mp4: 384x640 (no detections), 15.0ms\n",
      "video 1/1 (56/127) F:\\yolov5\\yolov5-master\\WV121.mp4: 384x640 (no detections), 16.0ms\n",
      "video 1/1 (57/127) F:\\yolov5\\yolov5-master\\WV121.mp4: 384x640 1 Handgun, 13.0ms\n",
      "video 1/1 (58/127) F:\\yolov5\\yolov5-master\\WV121.mp4: 384x640 1 Handgun, 12.0ms\n",
      "video 1/1 (59/127) F:\\yolov5\\yolov5-master\\WV121.mp4: 384x640 1 Handgun, 11.0ms\n",
      "video 1/1 (60/127) F:\\yolov5\\yolov5-master\\WV121.mp4: 384x640 1 Handgun, 11.0ms\n",
      "video 1/1 (61/127) F:\\yolov5\\yolov5-master\\WV121.mp4: 384x640 (no detections), 11.0ms\n",
      "video 1/1 (62/127) F:\\yolov5\\yolov5-master\\WV121.mp4: 384x640 (no detections), 11.0ms\n",
      "video 1/1 (63/127) F:\\yolov5\\yolov5-master\\WV121.mp4: 384x640 (no detections), 11.0ms\n",
      "video 1/1 (64/127) F:\\yolov5\\yolov5-master\\WV121.mp4: 384x640 (no detections), 11.0ms\n",
      "video 1/1 (65/127) F:\\yolov5\\yolov5-master\\WV121.mp4: 384x640 (no detections), 11.0ms\n",
      "video 1/1 (66/127) F:\\yolov5\\yolov5-master\\WV121.mp4: 384x640 1 Handgun, 11.0ms\n",
      "video 1/1 (67/127) F:\\yolov5\\yolov5-master\\WV121.mp4: 384x640 1 Handgun, 11.0ms\n",
      "video 1/1 (68/127) F:\\yolov5\\yolov5-master\\WV121.mp4: 384x640 1 Handgun, 12.0ms\n",
      "video 1/1 (69/127) F:\\yolov5\\yolov5-master\\WV121.mp4: 384x640 1 Handgun, 11.0ms\n",
      "video 1/1 (70/127) F:\\yolov5\\yolov5-master\\WV121.mp4: 384x640 1 Handgun, 11.0ms\n",
      "video 1/1 (71/127) F:\\yolov5\\yolov5-master\\WV121.mp4: 384x640 1 Handgun, 12.0ms\n",
      "video 1/1 (72/127) F:\\yolov5\\yolov5-master\\WV121.mp4: 384x640 (no detections), 11.0ms\n",
      "video 1/1 (73/127) F:\\yolov5\\yolov5-master\\WV121.mp4: 384x640 (no detections), 11.0ms\n",
      "video 1/1 (74/127) F:\\yolov5\\yolov5-master\\WV121.mp4: 384x640 (no detections), 11.0ms\n",
      "video 1/1 (75/127) F:\\yolov5\\yolov5-master\\WV121.mp4: 384x640 (no detections), 11.0ms\n",
      "video 1/1 (76/127) F:\\yolov5\\yolov5-master\\WV121.mp4: 384x640 (no detections), 11.0ms\n",
      "video 1/1 (77/127) F:\\yolov5\\yolov5-master\\WV121.mp4: 384x640 (no detections), 11.0ms\n",
      "video 1/1 (78/127) F:\\yolov5\\yolov5-master\\WV121.mp4: 384x640 (no detections), 13.0ms\n",
      "video 1/1 (79/127) F:\\yolov5\\yolov5-master\\WV121.mp4: 384x640 (no detections), 15.0ms\n",
      "video 1/1 (80/127) F:\\yolov5\\yolov5-master\\WV121.mp4: 384x640 (no detections), 18.0ms\n",
      "video 1/1 (81/127) F:\\yolov5\\yolov5-master\\WV121.mp4: 384x640 (no detections), 15.0ms\n",
      "video 1/1 (82/127) F:\\yolov5\\yolov5-master\\WV121.mp4: 384x640 1 Handgun, 14.0ms\n",
      "video 1/1 (83/127) F:\\yolov5\\yolov5-master\\WV121.mp4: 384x640 1 Handgun, 15.0ms\n",
      "video 1/1 (84/127) F:\\yolov5\\yolov5-master\\WV121.mp4: 384x640 1 Handgun, 14.0ms\n",
      "video 1/1 (85/127) F:\\yolov5\\yolov5-master\\WV121.mp4: 384x640 1 Handgun, 12.0ms\n",
      "video 1/1 (86/127) F:\\yolov5\\yolov5-master\\WV121.mp4: 384x640 1 Handgun, 12.0ms\n",
      "video 1/1 (87/127) F:\\yolov5\\yolov5-master\\WV121.mp4: 384x640 1 Handgun, 14.0ms\n",
      "video 1/1 (88/127) F:\\yolov5\\yolov5-master\\WV121.mp4: 384x640 1 Handgun, 11.0ms\n",
      "video 1/1 (89/127) F:\\yolov5\\yolov5-master\\WV121.mp4: 384x640 (no detections), 11.0ms\n",
      "video 1/1 (90/127) F:\\yolov5\\yolov5-master\\WV121.mp4: 384x640 (no detections), 12.0ms\n",
      "video 1/1 (91/127) F:\\yolov5\\yolov5-master\\WV121.mp4: 384x640 (no detections), 11.0ms\n",
      "video 1/1 (92/127) F:\\yolov5\\yolov5-master\\WV121.mp4: 384x640 (no detections), 11.0ms\n",
      "video 1/1 (93/127) F:\\yolov5\\yolov5-master\\WV121.mp4: 384x640 (no detections), 11.0ms\n",
      "video 1/1 (94/127) F:\\yolov5\\yolov5-master\\WV121.mp4: 384x640 (no detections), 12.0ms\n",
      "video 1/1 (95/127) F:\\yolov5\\yolov5-master\\WV121.mp4: 384x640 (no detections), 11.0ms\n"
     ]
    },
    {
     "name": "stdout",
     "output_type": "stream",
     "text": [
      "video 1/1 (96/127) F:\\yolov5\\yolov5-master\\WV121.mp4: 384x640 1 Handgun, 12.0ms\n",
      "video 1/1 (97/127) F:\\yolov5\\yolov5-master\\WV121.mp4: 384x640 1 Handgun, 11.0ms\n",
      "video 1/1 (98/127) F:\\yolov5\\yolov5-master\\WV121.mp4: 384x640 1 Handgun, 12.0ms\n",
      "video 1/1 (99/127) F:\\yolov5\\yolov5-master\\WV121.mp4: 384x640 1 Handgun, 11.0ms\n",
      "video 1/1 (100/127) F:\\yolov5\\yolov5-master\\WV121.mp4: 384x640 1 Handgun, 11.0ms\n",
      "video 1/1 (101/127) F:\\yolov5\\yolov5-master\\WV121.mp4: 384x640 1 Handgun, 11.0ms\n",
      "video 1/1 (102/127) F:\\yolov5\\yolov5-master\\WV121.mp4: 384x640 1 Handgun, 14.0ms\n",
      "video 1/1 (103/127) F:\\yolov5\\yolov5-master\\WV121.mp4: 384x640 1 Handgun, 14.0ms\n",
      "video 1/1 (104/127) F:\\yolov5\\yolov5-master\\WV121.mp4: 384x640 1 Handgun, 17.0ms\n",
      "video 1/1 (105/127) F:\\yolov5\\yolov5-master\\WV121.mp4: 384x640 1 Handgun, 11.0ms\n",
      "video 1/1 (106/127) F:\\yolov5\\yolov5-master\\WV121.mp4: 384x640 1 Handgun, 11.0ms\n",
      "video 1/1 (107/127) F:\\yolov5\\yolov5-master\\WV121.mp4: 384x640 1 Handgun, 12.0ms\n",
      "video 1/1 (108/127) F:\\yolov5\\yolov5-master\\WV121.mp4: 384x640 1 Handgun, 11.0ms\n",
      "video 1/1 (109/127) F:\\yolov5\\yolov5-master\\WV121.mp4: 384x640 1 Handgun, 11.0ms\n",
      "video 1/1 (110/127) F:\\yolov5\\yolov5-master\\WV121.mp4: 384x640 1 Handgun, 11.0ms\n",
      "video 1/1 (111/127) F:\\yolov5\\yolov5-master\\WV121.mp4: 384x640 1 Handgun, 11.0ms\n",
      "video 1/1 (112/127) F:\\yolov5\\yolov5-master\\WV121.mp4: 384x640 1 Handgun, 11.0ms\n",
      "video 1/1 (113/127) F:\\yolov5\\yolov5-master\\WV121.mp4: 384x640 1 Handgun, 11.0ms\n",
      "video 1/1 (114/127) F:\\yolov5\\yolov5-master\\WV121.mp4: 384x640 1 Handgun, 11.0ms\n",
      "video 1/1 (115/127) F:\\yolov5\\yolov5-master\\WV121.mp4: 384x640 1 Handgun, 11.0ms\n",
      "video 1/1 (116/127) F:\\yolov5\\yolov5-master\\WV121.mp4: 384x640 1 Handgun, 11.0ms\n",
      "video 1/1 (117/127) F:\\yolov5\\yolov5-master\\WV121.mp4: 384x640 1 Handgun, 12.0ms\n",
      "video 1/1 (118/127) F:\\yolov5\\yolov5-master\\WV121.mp4: 384x640 1 Handgun, 13.0ms\n",
      "video 1/1 (119/127) F:\\yolov5\\yolov5-master\\WV121.mp4: 384x640 1 Handgun, 11.0ms\n",
      "video 1/1 (120/127) F:\\yolov5\\yolov5-master\\WV121.mp4: 384x640 1 Handgun, 12.0ms\n",
      "video 1/1 (121/127) F:\\yolov5\\yolov5-master\\WV121.mp4: 384x640 (no detections), 11.0ms\n",
      "video 1/1 (122/127) F:\\yolov5\\yolov5-master\\WV121.mp4: 384x640 (no detections), 11.0ms\n",
      "video 1/1 (123/127) F:\\yolov5\\yolov5-master\\WV121.mp4: 384x640 (no detections), 11.0ms\n",
      "video 1/1 (124/127) F:\\yolov5\\yolov5-master\\WV121.mp4: 384x640 (no detections), 11.0ms\n",
      "video 1/1 (125/127) F:\\yolov5\\yolov5-master\\WV121.mp4: 384x640 (no detections), 11.0ms\n",
      "video 1/1 (126/127) F:\\yolov5\\yolov5-master\\WV121.mp4: 384x640 1 Handgun, 11.0ms\n",
      "video 1/1 (127/127) F:\\yolov5\\yolov5-master\\WV121.mp4: 384x640 1 Handgun, 11.0ms\n",
      "Speed: 0.7ms pre-process, 12.8ms inference, 1.5ms NMS per image at shape (1, 3, 640, 640)\n",
      "Results saved to \u001b[1mruns\\detect\\exp32\u001b[0m\n"
     ]
    }
   ],
   "source": [
    "run_object_detection(EXPERIMENT,TEST_VIDEO, 0.8)"
   ]
  },
  {
   "cell_type": "code",
   "execution_count": 13,
   "id": "2ed6d601",
   "metadata": {},
   "outputs": [],
   "source": [
    "#process_video_test(path_test_1)"
   ]
  },
  {
   "cell_type": "code",
   "execution_count": 14,
   "id": "0816f3a3",
   "metadata": {},
   "outputs": [],
   "source": [
    "#!python detect.py --source WV121.mp4 --weights F:\\yolov5\\yolov5-master\\runs\\train\\exp7\\weights\\best.pt\n",
    "#F:\\yolov5\\yolov5-master>python detect.py --source 0 --weights F:\\yolov5\\yolov5-master\\runs\\train\\exp7\\weights\\best.pt"
   ]
  },
  {
   "cell_type": "code",
   "execution_count": 57,
   "id": "d3b2873f",
   "metadata": {},
   "outputs": [],
   "source": [
    "#!python detect.py --source WV121.mp4 --weights F:\\yolov5\\yolov5-master\\runs\\train\\exp9\\weights\\best.pt"
   ]
  },
  {
   "cell_type": "code",
   "execution_count": 17,
   "id": "d5341f6d",
   "metadata": {},
   "outputs": [],
   "source": [
    "#!python train.py --img 640 --batch 16 --epochs 5 --data dataset.yaml --weights yolov5s.pt --hyp hyp.scratch-low.yaml"
   ]
  },
  {
   "cell_type": "code",
   "execution_count": 68,
   "id": "a4ac5a9d",
   "metadata": {},
   "outputs": [],
   "source": [
    "#run_train_yolo(batch_size, 16, 50, yolov5s, hyp_yaml)"
   ]
  },
  {
   "cell_type": "code",
   "execution_count": null,
   "id": "97fbdfdb",
   "metadata": {},
   "outputs": [],
   "source": []
  }
 ],
 "metadata": {
  "kernelspec": {
   "display_name": "Python 3 (ipykernel)",
   "language": "python",
   "name": "python3"
  },
  "language_info": {
   "codemirror_mode": {
    "name": "ipython",
    "version": 3
   },
   "file_extension": ".py",
   "mimetype": "text/x-python",
   "name": "python",
   "nbconvert_exporter": "python",
   "pygments_lexer": "ipython3",
   "version": "3.11.0"
  }
 },
 "nbformat": 4,
 "nbformat_minor": 5
}
