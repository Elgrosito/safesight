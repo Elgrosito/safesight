{
 "cells": [
  {
   "cell_type": "code",
   "execution_count": 26,
   "metadata": {},
   "outputs": [],
   "source": [
    "import os\n",
    "import cv2\n",
    "import tensorflow as tf\n",
    "import numpy as np\n",
    "import os\n",
    "import matplotlib.pyplot as plt\n",
    "import matplotlib.image as mpimg\n",
    "from PIL import ImageFile\n",
    "ImageFile.LOAD_TRUNCATED_IMAGES = True\n",
    "import shutil"
   ]
  },
  {
   "cell_type": "code",
   "execution_count": null,
   "metadata": {},
   "outputs": [
    {
     "ename": "FileNotFoundError",
     "evalue": "[Errno 2] No such file or directory: 'raw_data/test_images/train_imgs/pistol'",
     "output_type": "error",
     "traceback": [
      "\u001b[0;31m---------------------------------------------------------------------------\u001b[0m",
      "\u001b[0;31mFileNotFoundError\u001b[0m                         Traceback (most recent call last)",
      "Cell \u001b[0;32mIn[10], line 4\u001b[0m\n\u001b[1;32m      1\u001b[0m plt\u001b[39m.\u001b[39mfigure(figsize\u001b[39m=\u001b[39m(\u001b[39m15\u001b[39m,\u001b[39m15\u001b[39m))\n\u001b[1;32m      3\u001b[0m carpeta \u001b[39m=\u001b[39m \u001b[39m'\u001b[39m\u001b[39mraw_data/test_images/train_imgs/pistol\u001b[39m\u001b[39m'\u001b[39m\n\u001b[0;32m----> 4\u001b[0m imagenes \u001b[39m=\u001b[39m os\u001b[39m.\u001b[39;49mlistdir(carpeta)\n\u001b[1;32m      6\u001b[0m \u001b[39mfor\u001b[39;00m i, nombreimg \u001b[39min\u001b[39;00m \u001b[39menumerate\u001b[39m(imagenes[:\u001b[39m25\u001b[39m]):\n\u001b[1;32m      7\u001b[0m   plt\u001b[39m.\u001b[39msubplot(\u001b[39m5\u001b[39m,\u001b[39m5\u001b[39m,i\u001b[39m+\u001b[39m\u001b[39m1\u001b[39m)\n",
      "\u001b[0;31mFileNotFoundError\u001b[0m: [Errno 2] No such file or directory: 'raw_data/test_images/train_imgs/pistol'"
     ]
    },
    {
     "data": {
      "text/plain": [
       "<Figure size 1500x1500 with 0 Axes>"
      ]
     },
     "metadata": {},
     "output_type": "display_data"
    }
   ],
   "source": [
    "plt.figure(figsize=(15,15))\n",
    "\n",
    "carpeta = 'raw_data/test_images/train_imgs/pistol'\n",
    "imagenes = os.listdir(carpeta)\n",
    "\n",
    "for i, nombreimg in enumerate(imagenes[:25]):\n",
    "  plt.subplot(5,5,i+1)\n",
    "  imagen = mpimg.imread(carpeta + '/' + nombreimg)\n",
    "  plt.imshow(imagen)"
   ]
  },
  {
   "cell_type": "code",
   "execution_count": null,
   "metadata": {},
   "outputs": [],
   "source": [
    "from tensorflow.keras.preprocessing.image import ImageDataGenerator\n",
    "import matplotlib.pyplot as plt\n",
    "#\n",
    "datagen = ImageDataGenerator(\n",
    "    rescale=1. / 255,\n",
    "    rotation_range=30,\n",
    "    width_shift_range=0.25,\n",
    "    height_shift_range=0.25,\n",
    "    shear_range=15,\n",
    "    zoom_range=[0.5, 1.5],\n",
    "    validation_split=0.2 \n",
    ")\n"
   ]
  },
  {
   "cell_type": "code",
   "execution_count": null,
   "metadata": {},
   "outputs": [
    {
     "name": "stdout",
     "output_type": "stream",
     "text": [
      "225\n",
      "132\n",
      "78\n"
     ]
    }
   ],
   "source": [
    "print(len(os.listdir('raw_data/test_images/test_imgs/knife')))\n",
    "print(len(os.listdir('raw_data/test_images/test_imgs/other')))\n",
    "print(len(os.listdir('raw_data/test_images/test_imgs/pistol')))"
   ]
  },
  {
   "cell_type": "code",
   "execution_count": null,
   "metadata": {},
   "outputs": [
    {
     "name": "stdout",
     "output_type": "stream",
     "text": [
      "781\n",
      "1755\n",
      "795\n"
     ]
    }
   ],
   "source": [
    "print(len(os.listdir('raw_data/test_images/train_imgs/knife')))\n",
    "print(len(os.listdir('raw_data/test_images/train_imgs/other')))\n",
    "print(len(os.listdir('raw_data/test_images/train_imgs/pistol')))"
   ]
  },
  {
   "cell_type": "code",
   "execution_count": null,
   "metadata": {},
   "outputs": [],
   "source": [
    "#train_dir = 'raw_data/test_images/train_imgs'\n",
    "#test_dir = 'raw_data/test_images/test_imgs'"
   ]
  },
  {
   "cell_type": "code",
   "execution_count": null,
   "metadata": {},
   "outputs": [],
   "source": [
    "carpeta_fuente = 'raw_data/test_images/train_imgs/knife'\n",
    "carpeta_destino = 'dataset/knife'\n",
    "imagenes = os.listdir(carpeta_fuente)\n",
    "\n",
    "for i, nombreimg in enumerate(imagenes):\n",
    "  if i < 781:\n",
    "    #Copia de la carpeta fuente a la destino\n",
    "    shutil.copy(carpeta_fuente + '/' + nombreimg, carpeta_destino + '/' + nombreimg)"
   ]
  },
  {
   "cell_type": "code",
   "execution_count": null,
   "metadata": {},
   "outputs": [],
   "source": [
    "carpeta_fuente = 'raw_data/test_images/train_imgs/pistol'\n",
    "carpeta_destino = 'dataset/pistol'\n",
    "imagenes = os.listdir(carpeta_fuente)\n",
    "\n",
    "for i, nombreimg in enumerate(imagenes):\n",
    "  if i < 781:\n",
    "    #Copia de la carpeta fuente a la destino\n",
    "    shutil.copy(carpeta_fuente + '/' + nombreimg, carpeta_destino + '/' + nombreimg)"
   ]
  },
  {
   "cell_type": "code",
   "execution_count": null,
   "metadata": {},
   "outputs": [],
   "source": [
    "carpeta_fuente = 'raw_data/test_images/train_imgs/other'\n",
    "carpeta_destino = 'dataset/other'\n",
    "imagenes = os.listdir(carpeta_fuente)\n",
    "\n",
    "for i, nombreimg in enumerate(imagenes):\n",
    "  if i < 781:\n",
    "    #Copia de la carpeta fuente a la destino\n",
    "    shutil.copy(carpeta_fuente + '/' + nombreimg, carpeta_destino + '/' + nombreimg)"
   ]
  },
  {
   "cell_type": "code",
   "execution_count": null,
   "metadata": {},
   "outputs": [
    {
     "name": "stdout",
     "output_type": "stream",
     "text": [
      "781\n",
      "781\n",
      "781\n"
     ]
    }
   ],
   "source": [
    "print(len(os.listdir('dataset/knife')))\n",
    "print(len(os.listdir('dataset/other')))\n",
    "print(len(os.listdir('dataset/pistol')))"
   ]
  },
  {
   "cell_type": "code",
   "execution_count": null,
   "metadata": {},
   "outputs": [
    {
     "name": "stdout",
     "output_type": "stream",
     "text": [
      "Found 1874 images belonging to 3 classes.\n"
     ]
    }
   ],
   "source": [
    "data_gen_train = datagen.flow_from_directory(\n",
    "    'dataset/',\n",
    "    target_size=(224, 224),\n",
    "    batch_size=32,\n",
    "    shuffle=True,\n",
    "    subset='training'\n",
    ")"
   ]
  },
  {
   "cell_type": "code",
   "execution_count": null,
   "metadata": {},
   "outputs": [
    {
     "name": "stdout",
     "output_type": "stream",
     "text": [
      "Found 468 images belonging to 3 classes.\n"
     ]
    }
   ],
   "source": [
    "data_gen_test = datagen.flow_from_directory(\n",
    "    'dataset/',\n",
    "    target_size=(224, 224),\n",
    "    batch_size=32,\n",
    "    shuffle=True,\n",
    "    subset='validation'\n",
    ")"
   ]
  },
  {
   "cell_type": "code",
   "execution_count": null,
   "metadata": {},
   "outputs": [
    {
     "data": {
      "text/plain": [
       "468.5"
      ]
     },
     "execution_count": 56,
     "metadata": {},
     "output_type": "execute_result"
    }
   ],
   "source": [
    "1874 * 0.25"
   ]
  },
  {
   "cell_type": "code",
   "execution_count": null,
   "metadata": {},
   "outputs": [],
   "source": [
    "PATH =\"raw_data/\"\n",
    "FILE=\"test_video.mp4\"\n",
    "VIDEO = PATH+FILE"
   ]
  },
  {
   "cell_type": "code",
   "execution_count": null,
   "metadata": {},
   "outputs": [],
   "source": [
    "#cap = cv2.VideoCapture(VIDEO)"
   ]
  },
  {
   "attachments": {},
   "cell_type": "markdown",
   "metadata": {},
   "source": [
    "# 1.test"
   ]
  },
  {
   "cell_type": "code",
   "execution_count": null,
   "metadata": {},
   "outputs": [],
   "source": [
    "\n",
    "#def process_video_test(video_path):\n",
    "#    video = cv2.VideoCapture(video_path)\n",
    "#\n",
    "#    while video.isOpened():\n",
    "#        ret, frame = video.read()\n",
    "#\n",
    "#        if not ret:\n",
    "#            break\n",
    "#\n",
    "#        cv2.imshow('Video', frame)\n",
    "#\n",
    "#        if cv2.waitKey(1) == 27:\n",
    "#            break\n",
    "#        cv2.waitKey(25)\n",
    "#    video.release()\n",
    "#    cv2.destroyAllWindows()\n",
    "#\n",
    "#process_video_test(VIDEO)\n",
    "#abre el video, funciona bien"
   ]
  },
  {
   "cell_type": "code",
   "execution_count": null,
   "metadata": {},
   "outputs": [],
   "source": [
    "def preprocess_frame(frame):\n",
    "    # Preprocess the frame (resize, normalize, etc.)\n",
    "    resized_frame = cv2.resize(frame, (224, 224))\n",
    "    normalized_frame = resized_frame / 255.0  # Normalize pixel values between 0 and 1\n",
    "    preprocessed_frame = tf.expand_dims(normalized_frame, axis=0)  # Add batch dimension\n",
    "    return preprocessed_frame"
   ]
  },
  {
   "cell_type": "code",
   "execution_count": null,
   "metadata": {},
   "outputs": [],
   "source": [
    "def process_video(video_path, model):\n",
    "    video = cv2.VideoCapture(video_path)\n",
    "    detections = []\n",
    "\n",
    "    while video.isOpened():\n",
    "        ret, frame = video.read()\n",
    "\n",
    "        if not ret:\n",
    "            break\n",
    "\n",
    "        processed_frame = preprocess_frame(frame)\n",
    "\n",
    "        features = model(processed_frame)\n",
    "\n",
    "        probabilities = tf.nn.softmax(features)\n",
    "\n",
    "        class_id = tf.argmax(probabilities, axis=1)\n",
    "        class_label = class_id.numpy()[0]\n",
    "\n",
    "        cv2.imshow('Video', frame)\n",
    "\n",
    "        if class_label == 1:\n",
    "            detections.append(\"Pistol or handggun detected!\")\n",
    "\n",
    "        if cv2.waitKey(1) == 27:\n",
    "            break\n",
    "\n",
    "        cv2.waitKey(25)\n",
    "\n",
    "    video.release()\n",
    "    cv2.destroyAllWindows()\n",
    "\n",
    "    # Print the detections\n",
    "    if len(detections) > 0:\n",
    "        print(\"Detections:\")\n",
    "        for detection in detections:\n",
    "            print(detection)\n",
    "    else:\n",
    "        print(\"No pistol or handgun detected.\")"
   ]
  },
  {
   "attachments": {},
   "cell_type": "markdown",
   "metadata": {},
   "source": [
    "# Model"
   ]
  },
  {
   "cell_type": "code",
   "execution_count": null,
   "metadata": {},
   "outputs": [],
   "source": [
    "import tensorflow as tf\n",
    "import tensorflow_hub as hub\n",
    "#este es el de fabi\n",
    "url = \"https://tfhub.dev/google/tf2-preview/mobilenet_v2/feature_vector/4\"\n",
    "mobilenetv2 = hub.KerasLayer(url, input_shape=(224,224,3))\n",
    "mobilenetv2.trainable = False"
   ]
  },
  {
   "cell_type": "code",
   "execution_count": null,
   "metadata": {},
   "outputs": [
    {
     "name": "stdout",
     "output_type": "stream",
     "text": [
      "No pistol or handgun detected.\n"
     ]
    }
   ],
   "source": [
    "process_video(VIDEO, model)"
   ]
  },
  {
   "cell_type": "code",
   "execution_count": null,
   "metadata": {},
   "outputs": [],
   "source": [
    "model = tf.keras.Sequential([\n",
    "    mobilenetv2,\n",
    "    tf.keras.layers.Dense(3, activation='softmax')\n",
    "])\n",
    "\n",
    "#base_model = tf.keras.applications.MobileNetV2(\n",
    "#                                               include_top=True,\n",
    "#                                               weights='imagenet')"
   ]
  },
  {
   "cell_type": "code",
   "execution_count": null,
   "metadata": {},
   "outputs": [
    {
     "name": "stdout",
     "output_type": "stream",
     "text": [
      "Model: \"sequential_1\"\n",
      "_________________________________________________________________\n",
      " Layer (type)                Output Shape              Param #   \n",
      "=================================================================\n",
      " keras_layer_1 (KerasLayer)  (None, 1280)              2257984   \n",
      "                                                                 \n",
      " dense_1 (Dense)             (None, 3)                 3843      \n",
      "                                                                 \n",
      "=================================================================\n",
      "Total params: 2,261,827\n",
      "Trainable params: 3,843\n",
      "Non-trainable params: 2,257,984\n",
      "_________________________________________________________________\n"
     ]
    }
   ],
   "source": [
    "model.summary()"
   ]
  },
  {
   "attachments": {},
   "cell_type": "markdown",
   "metadata": {},
   "source": [
    "## Acá hay que seguir y ver la precision, comparar con un baseline"
   ]
  },
  {
   "cell_type": "code",
   "execution_count": null,
   "metadata": {},
   "outputs": [],
   "source": [
    "#https://github.com/EhabR98/Transfer-Learning-with-MobileNetV2"
   ]
  },
  {
   "cell_type": "code",
   "execution_count": null,
   "metadata": {},
   "outputs": [],
   "source": [
    "model.compile(\n",
    "    optimizer='adam',\n",
    "    loss='categorical_crossentropy',\n",
    "    metrics=['accuracy']\n",
    ")"
   ]
  },
  {
   "cell_type": "code",
   "execution_count": null,
   "metadata": {},
   "outputs": [
    {
     "name": "stderr",
     "output_type": "stream",
     "text": [
      "2023-06-24 11:26:01.994251: I tensorflow/core/common_runtime/executor.cc:1197] [/device:CPU:0] (DEBUG INFO) Executor start aborting (this does not indicate an error and you can ignore this message): INVALID_ARGUMENT: You must feed a value for placeholder tensor 'Placeholder/_0' with dtype int32\n",
      "\t [[{{node Placeholder/_0}}]]\n"
     ]
    },
    {
     "name": "stdout",
     "output_type": "stream",
     "text": [
      "Epoch 1/50\n"
     ]
    },
    {
     "name": "stderr",
     "output_type": "stream",
     "text": [
      "2023-06-24 11:26:07.332492: I tensorflow/core/common_runtime/executor.cc:1197] [/device:CPU:0] (DEBUG INFO) Executor start aborting (this does not indicate an error and you can ignore this message): INVALID_ARGUMENT: You must feed a value for placeholder tensor 'gradients/zeros_like/StatefulPartitionedCall' with dtype float and shape [?,1,1,1280]\n",
      "\t [[{{node gradients/zeros_like/StatefulPartitionedCall}}]]\n",
      "2023-06-24 11:26:07.332659: I tensorflow/core/common_runtime/executor.cc:1197] [/device:CPU:0] (DEBUG INFO) Executor start aborting (this does not indicate an error and you can ignore this message): INVALID_ARGUMENT: You must feed a value for placeholder tensor 'gradients/StatefulPartitionedCall_grad/StatefulPartitionedCall' with dtype float and shape [?,7,7,1280]\n",
      "\t [[{{node gradients/StatefulPartitionedCall_grad/StatefulPartitionedCall}}]]\n",
      "2023-06-24 11:26:07.332735: I tensorflow/core/common_runtime/executor.cc:1197] [/device:CPU:0] (DEBUG INFO) Executor start aborting (this does not indicate an error and you can ignore this message): INVALID_ARGUMENT: You must feed a value for placeholder tensor 'gradients/zeros_like_37/StatefulPartitionedCall' with dtype float and shape [?,7,7,320]\n",
      "\t [[{{node gradients/zeros_like_37/StatefulPartitionedCall}}]]\n",
      "2023-06-24 11:26:07.332795: I tensorflow/core/common_runtime/executor.cc:1197] [/device:CPU:0] (DEBUG INFO) Executor start aborting (this does not indicate an error and you can ignore this message): INVALID_ARGUMENT: You must feed a value for placeholder tensor 'gradients/zeros_like_35/StatefulPartitionedCall' with dtype float and shape [?,7,7,960]\n",
      "\t [[{{node gradients/zeros_like_35/StatefulPartitionedCall}}]]\n",
      "2023-06-24 11:26:07.332851: I tensorflow/core/common_runtime/executor.cc:1197] [/device:CPU:0] (DEBUG INFO) Executor start aborting (this does not indicate an error and you can ignore this message): INVALID_ARGUMENT: You must feed a value for placeholder tensor 'gradients/zeros_like_36/StatefulPartitionedCall' with dtype float and shape [?,7,7,960]\n",
      "\t [[{{node gradients/zeros_like_36/StatefulPartitionedCall}}]]\n",
      "2023-06-24 11:26:07.332907: I tensorflow/core/common_runtime/executor.cc:1197] [/device:CPU:0] (DEBUG INFO) Executor start aborting (this does not indicate an error and you can ignore this message): INVALID_ARGUMENT: You must feed a value for placeholder tensor 'gradients/StatefulPartitionedCall_grad/StatefulPartitionedCall_38' with dtype float and shape [?,7,7,160]\n",
      "\t [[{{node gradients/StatefulPartitionedCall_grad/StatefulPartitionedCall_38}}]]\n",
      "2023-06-24 11:26:07.332962: I tensorflow/core/common_runtime/executor.cc:1197] [/device:CPU:0] (DEBUG INFO) Executor start aborting (this does not indicate an error and you can ignore this message): INVALID_ARGUMENT: You must feed a value for placeholder tensor 'gradients/StatefulPartitionedCall_grad/StatefulPartitionedCall_40' with dtype float and shape [?,7,7,160]\n",
      "\t [[{{node gradients/StatefulPartitionedCall_grad/StatefulPartitionedCall_40}}]]\n",
      "2023-06-24 11:26:07.333015: I tensorflow/core/common_runtime/executor.cc:1197] [/device:CPU:0] (DEBUG INFO) Executor start aborting (this does not indicate an error and you can ignore this message): INVALID_ARGUMENT: You must feed a value for placeholder tensor 'gradients/StatefulPartitionedCall_grad/StatefulPartitionedCall_41' with dtype float and shape [?,7,7,160]\n",
      "\t [[{{node gradients/StatefulPartitionedCall_grad/StatefulPartitionedCall_41}}]]\n",
      "2023-06-24 11:26:07.333069: I tensorflow/core/common_runtime/executor.cc:1197] [/device:CPU:0] (DEBUG INFO) Executor start aborting (this does not indicate an error and you can ignore this message): INVALID_ARGUMENT: You must feed a value for placeholder tensor 'gradients/zeros_like_31/StatefulPartitionedCall' with dtype float and shape [?,7,7,960]\n",
      "\t [[{{node gradients/zeros_like_31/StatefulPartitionedCall}}]]\n",
      "2023-06-24 11:26:07.333121: I tensorflow/core/common_runtime/executor.cc:1197] [/device:CPU:0] (DEBUG INFO) Executor start aborting (this does not indicate an error and you can ignore this message): INVALID_ARGUMENT: You must feed a value for placeholder tensor 'gradients/zeros_like_32/StatefulPartitionedCall' with dtype float and shape [?,7,7,960]\n",
      "\t [[{{node gradients/zeros_like_32/StatefulPartitionedCall}}]]\n",
      "2023-06-24 11:26:07.333205: I tensorflow/core/common_runtime/executor.cc:1197] [/device:CPU:0] (DEBUG INFO) Executor start aborting (this does not indicate an error and you can ignore this message): INVALID_ARGUMENT: You must feed a value for placeholder tensor 'gradients/StatefulPartitionedCall_grad/StatefulPartitionedCall_71' with dtype float and shape [?,7,7,160]\n",
      "\t [[{{node gradients/StatefulPartitionedCall_grad/StatefulPartitionedCall_71}}]]\n",
      "2023-06-24 11:26:07.333292: I tensorflow/core/common_runtime/executor.cc:1197] [/device:CPU:0] (DEBUG INFO) Executor start aborting (this does not indicate an error and you can ignore this message): INVALID_ARGUMENT: You must feed a value for placeholder tensor 'gradients/StatefulPartitionedCall_grad/StatefulPartitionedCall_72' with dtype float and shape [?,7,7,160]\n",
      "\t [[{{node gradients/StatefulPartitionedCall_grad/StatefulPartitionedCall_72}}]]\n",
      "2023-06-24 11:26:07.333379: I tensorflow/core/common_runtime/executor.cc:1197] [/device:CPU:0] (DEBUG INFO) Executor start aborting (this does not indicate an error and you can ignore this message): INVALID_ARGUMENT: You must feed a value for placeholder tensor 'gradients/zeros_like_27/StatefulPartitionedCall' with dtype float and shape [?,7,7,960]\n",
      "\t [[{{node gradients/zeros_like_27/StatefulPartitionedCall}}]]\n",
      "2023-06-24 11:26:07.333466: I tensorflow/core/common_runtime/executor.cc:1197] [/device:CPU:0] (DEBUG INFO) Executor start aborting (this does not indicate an error and you can ignore this message): INVALID_ARGUMENT: You must feed a value for placeholder tensor 'gradients/zeros_like_28/StatefulPartitionedCall' with dtype float and shape [?,7,7,960]\n",
      "\t [[{{node gradients/zeros_like_28/StatefulPartitionedCall}}]]\n",
      "2023-06-24 11:26:07.333554: I tensorflow/core/common_runtime/executor.cc:1197] [/device:CPU:0] (DEBUG INFO) Executor start aborting (this does not indicate an error and you can ignore this message): INVALID_ARGUMENT: You must feed a value for placeholder tensor 'gradients/zeros_like_23/StatefulPartitionedCall' with dtype float and shape [?,7,7,576]\n",
      "\t [[{{node gradients/zeros_like_23/StatefulPartitionedCall}}]]\n",
      "2023-06-24 11:26:07.333665: I tensorflow/core/common_runtime/executor.cc:1197] [/device:CPU:0] (DEBUG INFO) Executor start aborting (this does not indicate an error and you can ignore this message): INVALID_ARGUMENT: You must feed a value for placeholder tensor 'gradients/zeros_like_24/StatefulPartitionedCall' with dtype float and shape [?,14,14,576]\n",
      "\t [[{{node gradients/zeros_like_24/StatefulPartitionedCall}}]]\n",
      "2023-06-24 11:26:07.333750: I tensorflow/core/common_runtime/executor.cc:1197] [/device:CPU:0] (DEBUG INFO) Executor start aborting (this does not indicate an error and you can ignore this message): INVALID_ARGUMENT: You must feed a value for placeholder tensor 'gradients/StatefulPartitionedCall_grad/StatefulPartitionedCall_130' with dtype float and shape [?,14,14,96]\n",
      "\t [[{{node gradients/StatefulPartitionedCall_grad/StatefulPartitionedCall_130}}]]\n",
      "2023-06-24 11:26:07.333834: I tensorflow/core/common_runtime/executor.cc:1197] [/device:CPU:0] (DEBUG INFO) Executor start aborting (this does not indicate an error and you can ignore this message): INVALID_ARGUMENT: You must feed a value for placeholder tensor 'gradients/StatefulPartitionedCall_grad/StatefulPartitionedCall_132' with dtype float and shape [?,14,14,96]\n",
      "\t [[{{node gradients/StatefulPartitionedCall_grad/StatefulPartitionedCall_132}}]]\n",
      "2023-06-24 11:26:07.333917: I tensorflow/core/common_runtime/executor.cc:1197] [/device:CPU:0] (DEBUG INFO) Executor start aborting (this does not indicate an error and you can ignore this message): INVALID_ARGUMENT: You must feed a value for placeholder tensor 'gradients/StatefulPartitionedCall_grad/StatefulPartitionedCall_133' with dtype float and shape [?,14,14,96]\n",
      "\t [[{{node gradients/StatefulPartitionedCall_grad/StatefulPartitionedCall_133}}]]\n",
      "2023-06-24 11:26:07.334002: I tensorflow/core/common_runtime/executor.cc:1197] [/device:CPU:0] (DEBUG INFO) Executor start aborting (this does not indicate an error and you can ignore this message): INVALID_ARGUMENT: You must feed a value for placeholder tensor 'gradients/zeros_like_19/StatefulPartitionedCall' with dtype float and shape [?,14,14,576]\n",
      "\t [[{{node gradients/zeros_like_19/StatefulPartitionedCall}}]]\n",
      "2023-06-24 11:26:07.334059: I tensorflow/core/common_runtime/executor.cc:1197] [/device:CPU:0] (DEBUG INFO) Executor start aborting (this does not indicate an error and you can ignore this message): INVALID_ARGUMENT: You must feed a value for placeholder tensor 'gradients/zeros_like_20/StatefulPartitionedCall' with dtype float and shape [?,14,14,576]\n",
      "\t [[{{node gradients/zeros_like_20/StatefulPartitionedCall}}]]\n",
      "2023-06-24 11:26:07.334142: I tensorflow/core/common_runtime/executor.cc:1197] [/device:CPU:0] (DEBUG INFO) Executor start aborting (this does not indicate an error and you can ignore this message): INVALID_ARGUMENT: You must feed a value for placeholder tensor 'gradients/StatefulPartitionedCall_grad/StatefulPartitionedCall_163' with dtype float and shape [?,14,14,96]\n",
      "\t [[{{node gradients/StatefulPartitionedCall_grad/StatefulPartitionedCall_163}}]]\n",
      "2023-06-24 11:26:07.334239: I tensorflow/core/common_runtime/executor.cc:1197] [/device:CPU:0] (DEBUG INFO) Executor start aborting (this does not indicate an error and you can ignore this message): INVALID_ARGUMENT: You must feed a value for placeholder tensor 'gradients/StatefulPartitionedCall_grad/StatefulPartitionedCall_164' with dtype float and shape [?,14,14,96]\n",
      "\t [[{{node gradients/StatefulPartitionedCall_grad/StatefulPartitionedCall_164}}]]\n",
      "2023-06-24 11:26:07.334322: I tensorflow/core/common_runtime/executor.cc:1197] [/device:CPU:0] (DEBUG INFO) Executor start aborting (this does not indicate an error and you can ignore this message): INVALID_ARGUMENT: You must feed a value for placeholder tensor 'gradients/zeros_like_15/StatefulPartitionedCall' with dtype float and shape [?,14,14,576]\n",
      "\t [[{{node gradients/zeros_like_15/StatefulPartitionedCall}}]]\n",
      "2023-06-24 11:26:07.334408: I tensorflow/core/common_runtime/executor.cc:1197] [/device:CPU:0] (DEBUG INFO) Executor start aborting (this does not indicate an error and you can ignore this message): INVALID_ARGUMENT: You must feed a value for placeholder tensor 'gradients/zeros_like_16/StatefulPartitionedCall' with dtype float and shape [?,14,14,576]\n",
      "\t [[{{node gradients/zeros_like_16/StatefulPartitionedCall}}]]\n",
      "2023-06-24 11:26:07.334494: I tensorflow/core/common_runtime/executor.cc:1197] [/device:CPU:0] (DEBUG INFO) Executor start aborting (this does not indicate an error and you can ignore this message): INVALID_ARGUMENT: You must feed a value for placeholder tensor 'gradients/zeros_like_11/StatefulPartitionedCall' with dtype float and shape [?,14,14,384]\n",
      "\t [[{{node gradients/zeros_like_11/StatefulPartitionedCall}}]]\n",
      "2023-06-24 11:26:07.334578: I tensorflow/core/common_runtime/executor.cc:1197] [/device:CPU:0] (DEBUG INFO) Executor start aborting (this does not indicate an error and you can ignore this message): INVALID_ARGUMENT: You must feed a value for placeholder tensor 'gradients/zeros_like_12/StatefulPartitionedCall' with dtype float and shape [?,14,14,384]\n",
      "\t [[{{node gradients/zeros_like_12/StatefulPartitionedCall}}]]\n",
      "2023-06-24 11:26:07.334681: I tensorflow/core/common_runtime/executor.cc:1197] [/device:CPU:0] (DEBUG INFO) Executor start aborting (this does not indicate an error and you can ignore this message): INVALID_ARGUMENT: You must feed a value for placeholder tensor 'gradients/StatefulPartitionedCall_grad/StatefulPartitionedCall_222' with dtype float and shape [?,14,14,64]\n",
      "\t [[{{node gradients/StatefulPartitionedCall_grad/StatefulPartitionedCall_222}}]]\n",
      "2023-06-24 11:26:07.334763: I tensorflow/core/common_runtime/executor.cc:1197] [/device:CPU:0] (DEBUG INFO) Executor start aborting (this does not indicate an error and you can ignore this message): INVALID_ARGUMENT: You must feed a value for placeholder tensor 'gradients/StatefulPartitionedCall_grad/StatefulPartitionedCall_224' with dtype float and shape [?,14,14,64]\n",
      "\t [[{{node gradients/StatefulPartitionedCall_grad/StatefulPartitionedCall_224}}]]\n",
      "2023-06-24 11:26:07.334846: I tensorflow/core/common_runtime/executor.cc:1197] [/device:CPU:0] (DEBUG INFO) Executor start aborting (this does not indicate an error and you can ignore this message): INVALID_ARGUMENT: You must feed a value for placeholder tensor 'gradients/StatefulPartitionedCall_grad/StatefulPartitionedCall_225' with dtype float and shape [?,14,14,64]\n",
      "\t [[{{node gradients/StatefulPartitionedCall_grad/StatefulPartitionedCall_225}}]]\n",
      "2023-06-24 11:26:07.334929: I tensorflow/core/common_runtime/executor.cc:1197] [/device:CPU:0] (DEBUG INFO) Executor start aborting (this does not indicate an error and you can ignore this message): INVALID_ARGUMENT: You must feed a value for placeholder tensor 'gradients/zeros_like_7/StatefulPartitionedCall' with dtype float and shape [?,14,14,384]\n",
      "\t [[{{node gradients/zeros_like_7/StatefulPartitionedCall}}]]\n",
      "2023-06-24 11:26:07.335013: I tensorflow/core/common_runtime/executor.cc:1197] [/device:CPU:0] (DEBUG INFO) Executor start aborting (this does not indicate an error and you can ignore this message): INVALID_ARGUMENT: You must feed a value for placeholder tensor 'gradients/zeros_like_8/StatefulPartitionedCall' with dtype float and shape [?,14,14,384]\n",
      "\t [[{{node gradients/zeros_like_8/StatefulPartitionedCall}}]]\n",
      "2023-06-24 11:26:07.335097: I tensorflow/core/common_runtime/executor.cc:1197] [/device:CPU:0] (DEBUG INFO) Executor start aborting (this does not indicate an error and you can ignore this message): INVALID_ARGUMENT: You must feed a value for placeholder tensor 'gradients/StatefulPartitionedCall_grad/StatefulPartitionedCall_255' with dtype float and shape [?,14,14,64]\n",
      "\t [[{{node gradients/StatefulPartitionedCall_grad/StatefulPartitionedCall_255}}]]\n",
      "2023-06-24 11:26:07.335201: I tensorflow/core/common_runtime/executor.cc:1197] [/device:CPU:0] (DEBUG INFO) Executor start aborting (this does not indicate an error and you can ignore this message): INVALID_ARGUMENT: You must feed a value for placeholder tensor 'gradients/StatefulPartitionedCall_grad/StatefulPartitionedCall_256' with dtype float and shape [?,14,14,64]\n",
      "\t [[{{node gradients/StatefulPartitionedCall_grad/StatefulPartitionedCall_256}}]]\n",
      "2023-06-24 11:26:07.335345: I tensorflow/core/common_runtime/executor.cc:1197] [/device:CPU:0] (DEBUG INFO) Executor start aborting (this does not indicate an error and you can ignore this message): INVALID_ARGUMENT: You must feed a value for placeholder tensor 'gradients/zeros_like_3/StatefulPartitionedCall' with dtype float and shape [?,14,14,384]\n",
      "\t [[{{node gradients/zeros_like_3/StatefulPartitionedCall}}]]\n",
      "2023-06-24 11:26:07.335454: I tensorflow/core/common_runtime/executor.cc:1197] [/device:CPU:0] (DEBUG INFO) Executor start aborting (this does not indicate an error and you can ignore this message): INVALID_ARGUMENT: You must feed a value for placeholder tensor 'gradients/zeros_like_4/StatefulPartitionedCall' with dtype float and shape [?,14,14,384]\n",
      "\t [[{{node gradients/zeros_like_4/StatefulPartitionedCall}}]]\n",
      "2023-06-24 11:26:07.335546: I tensorflow/core/common_runtime/executor.cc:1197] [/device:CPU:0] (DEBUG INFO) Executor start aborting (this does not indicate an error and you can ignore this message): INVALID_ARGUMENT: You must feed a value for placeholder tensor 'gradients/StatefulPartitionedCall_grad/StatefulPartitionedCall_286' with dtype float and shape [?,14,14,64]\n",
      "\t [[{{node gradients/StatefulPartitionedCall_grad/StatefulPartitionedCall_286}}]]\n",
      "2023-06-24 11:26:07.335633: I tensorflow/core/common_runtime/executor.cc:1197] [/device:CPU:0] (DEBUG INFO) Executor start aborting (this does not indicate an error and you can ignore this message): INVALID_ARGUMENT: You must feed a value for placeholder tensor 'gradients/StatefulPartitionedCall_grad/StatefulPartitionedCall_287' with dtype float and shape [?,14,14,64]\n",
      "\t [[{{node gradients/StatefulPartitionedCall_grad/StatefulPartitionedCall_287}}]]\n",
      "2023-06-24 11:26:07.335784: I tensorflow/core/common_runtime/executor.cc:1197] [/device:CPU:0] (DEBUG INFO) Executor start aborting (this does not indicate an error and you can ignore this message): INVALID_ARGUMENT: You must feed a value for placeholder tensor 'gradients/zeros_like_67/StatefulPartitionedCall' with dtype float and shape [?,14,14,384]\n",
      "\t [[{{node gradients/zeros_like_67/StatefulPartitionedCall}}]]\n",
      "2023-06-24 11:26:07.335890: I tensorflow/core/common_runtime/executor.cc:1197] [/device:CPU:0] (DEBUG INFO) Executor start aborting (this does not indicate an error and you can ignore this message): INVALID_ARGUMENT: You must feed a value for placeholder tensor 'gradients/zeros_like_68/StatefulPartitionedCall' with dtype float and shape [?,14,14,384]\n",
      "\t [[{{node gradients/zeros_like_68/StatefulPartitionedCall}}]]\n",
      "2023-06-24 11:26:07.335954: I tensorflow/core/common_runtime/executor.cc:1197] [/device:CPU:0] (DEBUG INFO) Executor start aborting (this does not indicate an error and you can ignore this message): INVALID_ARGUMENT: You must feed a value for placeholder tensor 'gradients/zeros_like_63/StatefulPartitionedCall' with dtype float and shape [?,14,14,192]\n",
      "\t [[{{node gradients/zeros_like_63/StatefulPartitionedCall}}]]\n",
      "2023-06-24 11:26:07.336042: I tensorflow/core/common_runtime/executor.cc:1197] [/device:CPU:0] (DEBUG INFO) Executor start aborting (this does not indicate an error and you can ignore this message): INVALID_ARGUMENT: You must feed a value for placeholder tensor 'gradients/zeros_like_64/StatefulPartitionedCall' with dtype float and shape [?,28,28,192]\n",
      "\t [[{{node gradients/zeros_like_64/StatefulPartitionedCall}}]]\n",
      "2023-06-24 11:26:07.336130: I tensorflow/core/common_runtime/executor.cc:1197] [/device:CPU:0] (DEBUG INFO) Executor start aborting (this does not indicate an error and you can ignore this message): INVALID_ARGUMENT: You must feed a value for placeholder tensor 'gradients/StatefulPartitionedCall_grad/StatefulPartitionedCall_345' with dtype float and shape [?,28,28,32]\n",
      "\t [[{{node gradients/StatefulPartitionedCall_grad/StatefulPartitionedCall_345}}]]\n",
      "2023-06-24 11:26:07.336226: I tensorflow/core/common_runtime/executor.cc:1197] [/device:CPU:0] (DEBUG INFO) Executor start aborting (this does not indicate an error and you can ignore this message): INVALID_ARGUMENT: You must feed a value for placeholder tensor 'gradients/StatefulPartitionedCall_grad/StatefulPartitionedCall_347' with dtype float and shape [?,28,28,32]\n",
      "\t [[{{node gradients/StatefulPartitionedCall_grad/StatefulPartitionedCall_347}}]]\n",
      "2023-06-24 11:26:07.336312: I tensorflow/core/common_runtime/executor.cc:1197] [/device:CPU:0] (DEBUG INFO) Executor start aborting (this does not indicate an error and you can ignore this message): INVALID_ARGUMENT: You must feed a value for placeholder tensor 'gradients/StatefulPartitionedCall_grad/StatefulPartitionedCall_348' with dtype float and shape [?,28,28,32]\n",
      "\t [[{{node gradients/StatefulPartitionedCall_grad/StatefulPartitionedCall_348}}]]\n",
      "2023-06-24 11:26:07.336370: I tensorflow/core/common_runtime/executor.cc:1197] [/device:CPU:0] (DEBUG INFO) Executor start aborting (this does not indicate an error and you can ignore this message): INVALID_ARGUMENT: You must feed a value for placeholder tensor 'gradients/zeros_like_59/StatefulPartitionedCall' with dtype float and shape [?,28,28,192]\n",
      "\t [[{{node gradients/zeros_like_59/StatefulPartitionedCall}}]]\n",
      "2023-06-24 11:26:07.336455: I tensorflow/core/common_runtime/executor.cc:1197] [/device:CPU:0] (DEBUG INFO) Executor start aborting (this does not indicate an error and you can ignore this message): INVALID_ARGUMENT: You must feed a value for placeholder tensor 'gradients/zeros_like_60/StatefulPartitionedCall' with dtype float and shape [?,28,28,192]\n",
      "\t [[{{node gradients/zeros_like_60/StatefulPartitionedCall}}]]\n",
      "2023-06-24 11:26:07.336542: I tensorflow/core/common_runtime/executor.cc:1197] [/device:CPU:0] (DEBUG INFO) Executor start aborting (this does not indicate an error and you can ignore this message): INVALID_ARGUMENT: You must feed a value for placeholder tensor 'gradients/StatefulPartitionedCall_grad/StatefulPartitionedCall_378' with dtype float and shape [?,28,28,32]\n",
      "\t [[{{node gradients/StatefulPartitionedCall_grad/StatefulPartitionedCall_378}}]]\n",
      "2023-06-24 11:26:07.336626: I tensorflow/core/common_runtime/executor.cc:1197] [/device:CPU:0] (DEBUG INFO) Executor start aborting (this does not indicate an error and you can ignore this message): INVALID_ARGUMENT: You must feed a value for placeholder tensor 'gradients/StatefulPartitionedCall_grad/StatefulPartitionedCall_379' with dtype float and shape [?,28,28,32]\n",
      "\t [[{{node gradients/StatefulPartitionedCall_grad/StatefulPartitionedCall_379}}]]\n",
      "2023-06-24 11:26:07.336704: I tensorflow/core/common_runtime/executor.cc:1197] [/device:CPU:0] (DEBUG INFO) Executor start aborting (this does not indicate an error and you can ignore this message): INVALID_ARGUMENT: You must feed a value for placeholder tensor 'gradients/zeros_like_55/StatefulPartitionedCall' with dtype float and shape [?,28,28,192]\n",
      "\t [[{{node gradients/zeros_like_55/StatefulPartitionedCall}}]]\n",
      "2023-06-24 11:26:07.336789: I tensorflow/core/common_runtime/executor.cc:1197] [/device:CPU:0] (DEBUG INFO) Executor start aborting (this does not indicate an error and you can ignore this message): INVALID_ARGUMENT: You must feed a value for placeholder tensor 'gradients/zeros_like_56/StatefulPartitionedCall' with dtype float and shape [?,28,28,192]\n",
      "\t [[{{node gradients/zeros_like_56/StatefulPartitionedCall}}]]\n",
      "2023-06-24 11:26:07.336846: I tensorflow/core/common_runtime/executor.cc:1197] [/device:CPU:0] (DEBUG INFO) Executor start aborting (this does not indicate an error and you can ignore this message): INVALID_ARGUMENT: You must feed a value for placeholder tensor 'gradients/zeros_like_51/StatefulPartitionedCall' with dtype float and shape [?,28,28,144]\n",
      "\t [[{{node gradients/zeros_like_51/StatefulPartitionedCall}}]]\n",
      "2023-06-24 11:26:07.336931: I tensorflow/core/common_runtime/executor.cc:1197] [/device:CPU:0] (DEBUG INFO) Executor start aborting (this does not indicate an error and you can ignore this message): INVALID_ARGUMENT: You must feed a value for placeholder tensor 'gradients/zeros_like_52/StatefulPartitionedCall' with dtype float and shape [?,56,56,144]\n",
      "\t [[{{node gradients/zeros_like_52/StatefulPartitionedCall}}]]\n",
      "2023-06-24 11:26:07.337018: I tensorflow/core/common_runtime/executor.cc:1197] [/device:CPU:0] (DEBUG INFO) Executor start aborting (this does not indicate an error and you can ignore this message): INVALID_ARGUMENT: You must feed a value for placeholder tensor 'gradients/StatefulPartitionedCall_grad/StatefulPartitionedCall_437' with dtype float and shape [?,56,56,24]\n",
      "\t [[{{node gradients/StatefulPartitionedCall_grad/StatefulPartitionedCall_437}}]]\n",
      "2023-06-24 11:26:07.337102: I tensorflow/core/common_runtime/executor.cc:1197] [/device:CPU:0] (DEBUG INFO) Executor start aborting (this does not indicate an error and you can ignore this message): INVALID_ARGUMENT: You must feed a value for placeholder tensor 'gradients/StatefulPartitionedCall_grad/StatefulPartitionedCall_439' with dtype float and shape [?,56,56,24]\n",
      "\t [[{{node gradients/StatefulPartitionedCall_grad/StatefulPartitionedCall_439}}]]\n",
      "2023-06-24 11:26:07.337174: I tensorflow/core/common_runtime/executor.cc:1197] [/device:CPU:0] (DEBUG INFO) Executor start aborting (this does not indicate an error and you can ignore this message): INVALID_ARGUMENT: You must feed a value for placeholder tensor 'gradients/StatefulPartitionedCall_grad/StatefulPartitionedCall_440' with dtype float and shape [?,56,56,24]\n",
      "\t [[{{node gradients/StatefulPartitionedCall_grad/StatefulPartitionedCall_440}}]]\n",
      "2023-06-24 11:26:07.337258: I tensorflow/core/common_runtime/executor.cc:1197] [/device:CPU:0] (DEBUG INFO) Executor start aborting (this does not indicate an error and you can ignore this message): INVALID_ARGUMENT: You must feed a value for placeholder tensor 'gradients/zeros_like_47/StatefulPartitionedCall' with dtype float and shape [?,56,56,144]\n",
      "\t [[{{node gradients/zeros_like_47/StatefulPartitionedCall}}]]\n",
      "2023-06-24 11:26:07.337392: I tensorflow/core/common_runtime/executor.cc:1197] [/device:CPU:0] (DEBUG INFO) Executor start aborting (this does not indicate an error and you can ignore this message): INVALID_ARGUMENT: You must feed a value for placeholder tensor 'gradients/zeros_like_48/StatefulPartitionedCall' with dtype float and shape [?,56,56,144]\n",
      "\t [[{{node gradients/zeros_like_48/StatefulPartitionedCall}}]]\n",
      "2023-06-24 11:26:07.337525: I tensorflow/core/common_runtime/executor.cc:1197] [/device:CPU:0] (DEBUG INFO) Executor start aborting (this does not indicate an error and you can ignore this message): INVALID_ARGUMENT: You must feed a value for placeholder tensor 'gradients/zeros_like_43/StatefulPartitionedCall' with dtype float and shape [?,56,56,96]\n",
      "\t [[{{node gradients/zeros_like_43/StatefulPartitionedCall}}]]\n",
      "2023-06-24 11:26:07.337624: I tensorflow/core/common_runtime/executor.cc:1197] [/device:CPU:0] (DEBUG INFO) Executor start aborting (this does not indicate an error and you can ignore this message): INVALID_ARGUMENT: You must feed a value for placeholder tensor 'gradients/zeros_like_44/StatefulPartitionedCall' with dtype float and shape [?,112,112,96]\n",
      "\t [[{{node gradients/zeros_like_44/StatefulPartitionedCall}}]]\n",
      "2023-06-24 11:26:07.337730: I tensorflow/core/common_runtime/executor.cc:1197] [/device:CPU:0] (DEBUG INFO) Executor start aborting (this does not indicate an error and you can ignore this message): INVALID_ARGUMENT: You must feed a value for placeholder tensor 'gradients/StatefulPartitionedCall_grad/StatefulPartitionedCall_498' with dtype float and shape [?,112,112,16]\n",
      "\t [[{{node gradients/StatefulPartitionedCall_grad/StatefulPartitionedCall_498}}]]\n",
      "2023-06-24 11:26:07.337820: I tensorflow/core/common_runtime/executor.cc:1197] [/device:CPU:0] (DEBUG INFO) Executor start aborting (this does not indicate an error and you can ignore this message): INVALID_ARGUMENT: You must feed a value for placeholder tensor 'gradients/zeros_like_40/StatefulPartitionedCall' with dtype float and shape [?,112,112,32]\n",
      "\t [[{{node gradients/zeros_like_40/StatefulPartitionedCall}}]]\n",
      "2023-06-24 11:26:07.337908: I tensorflow/core/common_runtime/executor.cc:1197] [/device:CPU:0] (DEBUG INFO) Executor start aborting (this does not indicate an error and you can ignore this message): INVALID_ARGUMENT: You must feed a value for placeholder tensor 'gradients/StatefulPartitionedCall_grad/StatefulPartitionedCall_518' with dtype float and shape [?,112,112,32]\n",
      "\t [[{{node gradients/StatefulPartitionedCall_grad/StatefulPartitionedCall_518}}]]\n",
      "2023-06-24 11:26:07.337995: I tensorflow/core/common_runtime/executor.cc:1197] [/device:CPU:0] (DEBUG INFO) Executor start aborting (this does not indicate an error and you can ignore this message): INVALID_ARGUMENT: You must feed a value for placeholder tensor 'gradients/StatefulPartitionedCall_grad/StatefulPartitionedCall_528' with dtype float and shape [?,224,224,3]\n",
      "\t [[{{node gradients/StatefulPartitionedCall_grad/StatefulPartitionedCall_528}}]]\n",
      "2023-06-24 11:26:07.338080: I tensorflow/core/common_runtime/executor.cc:1197] [/device:CPU:0] (DEBUG INFO) Executor start aborting (this does not indicate an error and you can ignore this message): INVALID_ARGUMENT: You must feed a value for placeholder tensor 'gradients/StatefulPartitionedCall_grad/StatefulPartitionedCall_530' with dtype float and shape [?,224,224,3]\n",
      "\t [[{{node gradients/StatefulPartitionedCall_grad/StatefulPartitionedCall_530}}]]\n",
      "2023-06-24 11:26:07.338165: I tensorflow/core/common_runtime/executor.cc:1197] [/device:CPU:0] (DEBUG INFO) Executor start aborting (this does not indicate an error and you can ignore this message): INVALID_ARGUMENT: You must feed a value for placeholder tensor 'gradients/StatefulPartitionedCall_grad/StatefulPartitionedCall_531' with dtype float\n",
      "\t [[{{node gradients/StatefulPartitionedCall_grad/StatefulPartitionedCall_531}}]]\n",
      "2023-06-24 11:26:07.338372: I tensorflow/core/common_runtime/executor.cc:1197] [/device:CPU:0] (DEBUG INFO) Executor start aborting (this does not indicate an error and you can ignore this message): INVALID_ARGUMENT: You must feed a value for placeholder tensor 'gradients/StatefulPartitionedCall_grad/StatefulPartitionedCall_532' with dtype float and shape [?,224,224,3]\n",
      "\t [[{{node gradients/StatefulPartitionedCall_grad/StatefulPartitionedCall_532}}]]\n",
      "2023-06-24 11:26:07.338476: I tensorflow/core/common_runtime/executor.cc:1197] [/device:CPU:0] (DEBUG INFO) Executor start aborting (this does not indicate an error and you can ignore this message): INVALID_ARGUMENT: You must feed a value for placeholder tensor 'gradients/StatefulPartitionedCall_grad/StatefulPartitionedCall_533' with dtype float\n",
      "\t [[{{node gradients/StatefulPartitionedCall_grad/StatefulPartitionedCall_533}}]]\n",
      "2023-06-24 11:26:07.916078: I tensorflow/core/common_runtime/executor.cc:1197] [/device:CPU:0] (DEBUG INFO) Executor start aborting (this does not indicate an error and you can ignore this message): INVALID_ARGUMENT: You must feed a value for placeholder tensor 'gradients/StatefulPartitionedCall_grad/StatefulPartitionedCall' with dtype float and shape [?,1,1,1280]\n",
      "\t [[{{node gradients/StatefulPartitionedCall_grad/StatefulPartitionedCall}}]]\n",
      "2023-06-24 11:26:07.916231: I tensorflow/core/common_runtime/executor.cc:1197] [/device:CPU:0] (DEBUG INFO) Executor start aborting (this does not indicate an error and you can ignore this message): INVALID_ARGUMENT: You must feed a value for placeholder tensor 'gradients/StatefulPartitionedCall_grad/StatefulPartitionedCall_3' with dtype float and shape [?,14,14,384]\n",
      "\t [[{{node gradients/StatefulPartitionedCall_grad/StatefulPartitionedCall_3}}]]\n",
      "2023-06-24 11:26:07.916296: I tensorflow/core/common_runtime/executor.cc:1197] [/device:CPU:0] (DEBUG INFO) Executor start aborting (this does not indicate an error and you can ignore this message): INVALID_ARGUMENT: You must feed a value for placeholder tensor 'gradients/StatefulPartitionedCall_grad/StatefulPartitionedCall_4' with dtype float and shape [?,14,14,384]\n",
      "\t [[{{node gradients/StatefulPartitionedCall_grad/StatefulPartitionedCall_4}}]]\n",
      "2023-06-24 11:26:07.916355: I tensorflow/core/common_runtime/executor.cc:1197] [/device:CPU:0] (DEBUG INFO) Executor start aborting (this does not indicate an error and you can ignore this message): INVALID_ARGUMENT: You must feed a value for placeholder tensor 'gradients/StatefulPartitionedCall_grad/StatefulPartitionedCall_7' with dtype float and shape [?,14,14,384]\n",
      "\t [[{{node gradients/StatefulPartitionedCall_grad/StatefulPartitionedCall_7}}]]\n",
      "2023-06-24 11:26:07.916410: I tensorflow/core/common_runtime/executor.cc:1197] [/device:CPU:0] (DEBUG INFO) Executor start aborting (this does not indicate an error and you can ignore this message): INVALID_ARGUMENT: You must feed a value for placeholder tensor 'gradients/StatefulPartitionedCall_grad/StatefulPartitionedCall_8' with dtype float and shape [?,14,14,384]\n",
      "\t [[{{node gradients/StatefulPartitionedCall_grad/StatefulPartitionedCall_8}}]]\n",
      "2023-06-24 11:26:07.916635: I tensorflow/core/common_runtime/executor.cc:1197] [/device:CPU:0] (DEBUG INFO) Executor start aborting (this does not indicate an error and you can ignore this message): INVALID_ARGUMENT: You must feed a value for placeholder tensor 'gradients/StatefulPartitionedCall_grad/StatefulPartitionedCall_11' with dtype float and shape [?,14,14,384]\n",
      "\t [[{{node gradients/StatefulPartitionedCall_grad/StatefulPartitionedCall_11}}]]\n",
      "2023-06-24 11:26:07.916760: I tensorflow/core/common_runtime/executor.cc:1197] [/device:CPU:0] (DEBUG INFO) Executor start aborting (this does not indicate an error and you can ignore this message): INVALID_ARGUMENT: You must feed a value for placeholder tensor 'gradients/StatefulPartitionedCall_grad/StatefulPartitionedCall_12' with dtype float and shape [?,14,14,384]\n",
      "\t [[{{node gradients/StatefulPartitionedCall_grad/StatefulPartitionedCall_12}}]]\n",
      "2023-06-24 11:26:07.916858: I tensorflow/core/common_runtime/executor.cc:1197] [/device:CPU:0] (DEBUG INFO) Executor start aborting (this does not indicate an error and you can ignore this message): INVALID_ARGUMENT: You must feed a value for placeholder tensor 'gradients/StatefulPartitionedCall_grad/StatefulPartitionedCall_15' with dtype float and shape [?,14,14,576]\n",
      "\t [[{{node gradients/StatefulPartitionedCall_grad/StatefulPartitionedCall_15}}]]\n",
      "2023-06-24 11:26:07.916947: I tensorflow/core/common_runtime/executor.cc:1197] [/device:CPU:0] (DEBUG INFO) Executor start aborting (this does not indicate an error and you can ignore this message): INVALID_ARGUMENT: You must feed a value for placeholder tensor 'gradients/StatefulPartitionedCall_grad/StatefulPartitionedCall_16' with dtype float and shape [?,14,14,576]\n",
      "\t [[{{node gradients/StatefulPartitionedCall_grad/StatefulPartitionedCall_16}}]]\n",
      "2023-06-24 11:26:07.917055: I tensorflow/core/common_runtime/executor.cc:1197] [/device:CPU:0] (DEBUG INFO) Executor start aborting (this does not indicate an error and you can ignore this message): INVALID_ARGUMENT: You must feed a value for placeholder tensor 'gradients/StatefulPartitionedCall_grad/StatefulPartitionedCall_19' with dtype float and shape [?,14,14,576]\n",
      "\t [[{{node gradients/StatefulPartitionedCall_grad/StatefulPartitionedCall_19}}]]\n",
      "2023-06-24 11:26:07.917141: I tensorflow/core/common_runtime/executor.cc:1197] [/device:CPU:0] (DEBUG INFO) Executor start aborting (this does not indicate an error and you can ignore this message): INVALID_ARGUMENT: You must feed a value for placeholder tensor 'gradients/StatefulPartitionedCall_grad/StatefulPartitionedCall_20' with dtype float and shape [?,14,14,576]\n",
      "\t [[{{node gradients/StatefulPartitionedCall_grad/StatefulPartitionedCall_20}}]]\n",
      "2023-06-24 11:26:07.917197: I tensorflow/core/common_runtime/executor.cc:1197] [/device:CPU:0] (DEBUG INFO) Executor start aborting (this does not indicate an error and you can ignore this message): INVALID_ARGUMENT: You must feed a value for placeholder tensor 'gradients/StatefulPartitionedCall_grad/StatefulPartitionedCall_23' with dtype float and shape [?,7,7,576]\n",
      "\t [[{{node gradients/StatefulPartitionedCall_grad/StatefulPartitionedCall_23}}]]\n",
      "2023-06-24 11:26:07.917281: I tensorflow/core/common_runtime/executor.cc:1197] [/device:CPU:0] (DEBUG INFO) Executor start aborting (this does not indicate an error and you can ignore this message): INVALID_ARGUMENT: You must feed a value for placeholder tensor 'gradients/StatefulPartitionedCall_grad/StatefulPartitionedCall_24' with dtype float and shape [?,14,14,576]\n",
      "\t [[{{node gradients/StatefulPartitionedCall_grad/StatefulPartitionedCall_24}}]]\n",
      "2023-06-24 11:26:07.917366: I tensorflow/core/common_runtime/executor.cc:1197] [/device:CPU:0] (DEBUG INFO) Executor start aborting (this does not indicate an error and you can ignore this message): INVALID_ARGUMENT: You must feed a value for placeholder tensor 'gradients/StatefulPartitionedCall_grad/StatefulPartitionedCall_27' with dtype float and shape [?,7,7,960]\n",
      "\t [[{{node gradients/StatefulPartitionedCall_grad/StatefulPartitionedCall_27}}]]\n",
      "2023-06-24 11:26:07.917450: I tensorflow/core/common_runtime/executor.cc:1197] [/device:CPU:0] (DEBUG INFO) Executor start aborting (this does not indicate an error and you can ignore this message): INVALID_ARGUMENT: You must feed a value for placeholder tensor 'gradients/StatefulPartitionedCall_grad/StatefulPartitionedCall_28' with dtype float and shape [?,7,7,960]\n",
      "\t [[{{node gradients/StatefulPartitionedCall_grad/StatefulPartitionedCall_28}}]]\n",
      "2023-06-24 11:26:07.917602: I tensorflow/core/common_runtime/executor.cc:1197] [/device:CPU:0] (DEBUG INFO) Executor start aborting (this does not indicate an error and you can ignore this message): INVALID_ARGUMENT: You must feed a value for placeholder tensor 'gradients/StatefulPartitionedCall_grad/StatefulPartitionedCall_31' with dtype float and shape [?,7,7,960]\n",
      "\t [[{{node gradients/StatefulPartitionedCall_grad/StatefulPartitionedCall_31}}]]\n",
      "2023-06-24 11:26:07.917786: I tensorflow/core/common_runtime/executor.cc:1197] [/device:CPU:0] (DEBUG INFO) Executor start aborting (this does not indicate an error and you can ignore this message): INVALID_ARGUMENT: You must feed a value for placeholder tensor 'gradients/StatefulPartitionedCall_grad/StatefulPartitionedCall_32' with dtype float and shape [?,7,7,960]\n",
      "\t [[{{node gradients/StatefulPartitionedCall_grad/StatefulPartitionedCall_32}}]]\n",
      "2023-06-24 11:26:07.917889: I tensorflow/core/common_runtime/executor.cc:1197] [/device:CPU:0] (DEBUG INFO) Executor start aborting (this does not indicate an error and you can ignore this message): INVALID_ARGUMENT: You must feed a value for placeholder tensor 'gradients/StatefulPartitionedCall_grad/StatefulPartitionedCall_35' with dtype float and shape [?,7,7,960]\n",
      "\t [[{{node gradients/StatefulPartitionedCall_grad/StatefulPartitionedCall_35}}]]\n",
      "2023-06-24 11:26:07.917950: I tensorflow/core/common_runtime/executor.cc:1197] [/device:CPU:0] (DEBUG INFO) Executor start aborting (this does not indicate an error and you can ignore this message): INVALID_ARGUMENT: You must feed a value for placeholder tensor 'gradients/StatefulPartitionedCall_grad/StatefulPartitionedCall_36' with dtype float and shape [?,7,7,960]\n",
      "\t [[{{node gradients/StatefulPartitionedCall_grad/StatefulPartitionedCall_36}}]]\n",
      "2023-06-24 11:26:07.918057: I tensorflow/core/common_runtime/executor.cc:1197] [/device:CPU:0] (DEBUG INFO) Executor start aborting (this does not indicate an error and you can ignore this message): INVALID_ARGUMENT: You must feed a value for placeholder tensor 'gradients/StatefulPartitionedCall_grad/StatefulPartitionedCall_37' with dtype float and shape [?,7,7,320]\n",
      "\t [[{{node gradients/StatefulPartitionedCall_grad/StatefulPartitionedCall_37}}]]\n",
      "2023-06-24 11:26:07.918144: I tensorflow/core/common_runtime/executor.cc:1197] [/device:CPU:0] (DEBUG INFO) Executor start aborting (this does not indicate an error and you can ignore this message): INVALID_ARGUMENT: You must feed a value for placeholder tensor 'gradients/StatefulPartitionedCall_grad/StatefulPartitionedCall_40' with dtype float and shape [?,112,112,32]\n",
      "\t [[{{node gradients/StatefulPartitionedCall_grad/StatefulPartitionedCall_40}}]]\n",
      "2023-06-24 11:26:07.918231: I tensorflow/core/common_runtime/executor.cc:1197] [/device:CPU:0] (DEBUG INFO) Executor start aborting (this does not indicate an error and you can ignore this message): INVALID_ARGUMENT: You must feed a value for placeholder tensor 'gradients/StatefulPartitionedCall_grad/StatefulPartitionedCall_43' with dtype float and shape [?,56,56,96]\n",
      "\t [[{{node gradients/StatefulPartitionedCall_grad/StatefulPartitionedCall_43}}]]\n",
      "2023-06-24 11:26:07.918288: I tensorflow/core/common_runtime/executor.cc:1197] [/device:CPU:0] (DEBUG INFO) Executor start aborting (this does not indicate an error and you can ignore this message): INVALID_ARGUMENT: You must feed a value for placeholder tensor 'gradients/StatefulPartitionedCall_grad/StatefulPartitionedCall_44' with dtype float and shape [?,112,112,96]\n",
      "\t [[{{node gradients/StatefulPartitionedCall_grad/StatefulPartitionedCall_44}}]]\n",
      "2023-06-24 11:26:07.918423: I tensorflow/core/common_runtime/executor.cc:1197] [/device:CPU:0] (DEBUG INFO) Executor start aborting (this does not indicate an error and you can ignore this message): INVALID_ARGUMENT: You must feed a value for placeholder tensor 'gradients/StatefulPartitionedCall_grad/StatefulPartitionedCall_47' with dtype float and shape [?,56,56,144]\n",
      "\t [[{{node gradients/StatefulPartitionedCall_grad/StatefulPartitionedCall_47}}]]\n",
      "2023-06-24 11:26:07.918885: I tensorflow/core/common_runtime/executor.cc:1197] [/device:CPU:0] (DEBUG INFO) Executor start aborting (this does not indicate an error and you can ignore this message): INVALID_ARGUMENT: You must feed a value for placeholder tensor 'gradients/StatefulPartitionedCall_grad/StatefulPartitionedCall_48' with dtype float and shape [?,56,56,144]\n",
      "\t [[{{node gradients/StatefulPartitionedCall_grad/StatefulPartitionedCall_48}}]]\n",
      "2023-06-24 11:26:07.919104: I tensorflow/core/common_runtime/executor.cc:1197] [/device:CPU:0] (DEBUG INFO) Executor start aborting (this does not indicate an error and you can ignore this message): INVALID_ARGUMENT: You must feed a value for placeholder tensor 'gradients/StatefulPartitionedCall_grad/StatefulPartitionedCall_51' with dtype float and shape [?,28,28,144]\n",
      "\t [[{{node gradients/StatefulPartitionedCall_grad/StatefulPartitionedCall_51}}]]\n",
      "2023-06-24 11:26:07.919262: I tensorflow/core/common_runtime/executor.cc:1197] [/device:CPU:0] (DEBUG INFO) Executor start aborting (this does not indicate an error and you can ignore this message): INVALID_ARGUMENT: You must feed a value for placeholder tensor 'gradients/StatefulPartitionedCall_grad/StatefulPartitionedCall_52' with dtype float and shape [?,56,56,144]\n",
      "\t [[{{node gradients/StatefulPartitionedCall_grad/StatefulPartitionedCall_52}}]]\n",
      "2023-06-24 11:26:07.919378: I tensorflow/core/common_runtime/executor.cc:1197] [/device:CPU:0] (DEBUG INFO) Executor start aborting (this does not indicate an error and you can ignore this message): INVALID_ARGUMENT: You must feed a value for placeholder tensor 'gradients/StatefulPartitionedCall_grad/StatefulPartitionedCall_55' with dtype float and shape [?,28,28,192]\n",
      "\t [[{{node gradients/StatefulPartitionedCall_grad/StatefulPartitionedCall_55}}]]\n",
      "2023-06-24 11:26:07.919479: I tensorflow/core/common_runtime/executor.cc:1197] [/device:CPU:0] (DEBUG INFO) Executor start aborting (this does not indicate an error and you can ignore this message): INVALID_ARGUMENT: You must feed a value for placeholder tensor 'gradients/StatefulPartitionedCall_grad/StatefulPartitionedCall_56' with dtype float and shape [?,28,28,192]\n",
      "\t [[{{node gradients/StatefulPartitionedCall_grad/StatefulPartitionedCall_56}}]]\n",
      "2023-06-24 11:26:07.919568: I tensorflow/core/common_runtime/executor.cc:1197] [/device:CPU:0] (DEBUG INFO) Executor start aborting (this does not indicate an error and you can ignore this message): INVALID_ARGUMENT: You must feed a value for placeholder tensor 'gradients/StatefulPartitionedCall_grad/StatefulPartitionedCall_59' with dtype float and shape [?,28,28,192]\n",
      "\t [[{{node gradients/StatefulPartitionedCall_grad/StatefulPartitionedCall_59}}]]\n",
      "2023-06-24 11:26:07.919660: I tensorflow/core/common_runtime/executor.cc:1197] [/device:CPU:0] (DEBUG INFO) Executor start aborting (this does not indicate an error and you can ignore this message): INVALID_ARGUMENT: You must feed a value for placeholder tensor 'gradients/StatefulPartitionedCall_grad/StatefulPartitionedCall_60' with dtype float and shape [?,28,28,192]\n",
      "\t [[{{node gradients/StatefulPartitionedCall_grad/StatefulPartitionedCall_60}}]]\n",
      "2023-06-24 11:26:07.919719: I tensorflow/core/common_runtime/executor.cc:1197] [/device:CPU:0] (DEBUG INFO) Executor start aborting (this does not indicate an error and you can ignore this message): INVALID_ARGUMENT: You must feed a value for placeholder tensor 'gradients/StatefulPartitionedCall_grad/StatefulPartitionedCall_63' with dtype float and shape [?,14,14,192]\n",
      "\t [[{{node gradients/StatefulPartitionedCall_grad/StatefulPartitionedCall_63}}]]\n",
      "2023-06-24 11:26:07.919806: I tensorflow/core/common_runtime/executor.cc:1197] [/device:CPU:0] (DEBUG INFO) Executor start aborting (this does not indicate an error and you can ignore this message): INVALID_ARGUMENT: You must feed a value for placeholder tensor 'gradients/StatefulPartitionedCall_grad/StatefulPartitionedCall_64' with dtype float and shape [?,28,28,192]\n",
      "\t [[{{node gradients/StatefulPartitionedCall_grad/StatefulPartitionedCall_64}}]]\n",
      "2023-06-24 11:26:07.919893: I tensorflow/core/common_runtime/executor.cc:1197] [/device:CPU:0] (DEBUG INFO) Executor start aborting (this does not indicate an error and you can ignore this message): INVALID_ARGUMENT: You must feed a value for placeholder tensor 'gradients/StatefulPartitionedCall_grad/StatefulPartitionedCall_67' with dtype float and shape [?,14,14,384]\n",
      "\t [[{{node gradients/StatefulPartitionedCall_grad/StatefulPartitionedCall_67}}]]\n",
      "2023-06-24 11:26:07.919979: I tensorflow/core/common_runtime/executor.cc:1197] [/device:CPU:0] (DEBUG INFO) Executor start aborting (this does not indicate an error and you can ignore this message): INVALID_ARGUMENT: You must feed a value for placeholder tensor 'gradients/StatefulPartitionedCall_grad/StatefulPartitionedCall_68' with dtype float and shape [?,14,14,384]\n",
      "\t [[{{node gradients/StatefulPartitionedCall_grad/StatefulPartitionedCall_68}}]]\n",
      "2023-06-24 11:26:07.920058: I tensorflow/core/common_runtime/executor.cc:1197] [/device:CPU:0] (DEBUG INFO) Executor start aborting (this does not indicate an error and you can ignore this message): INVALID_ARGUMENT: You must feed a value for placeholder tensor 'gradients/StatefulPartitionedCall_grad/StatefulPartitionedCall_70' with dtype float and shape [?,7,7,1280]\n",
      "\t [[{{node gradients/StatefulPartitionedCall_grad/StatefulPartitionedCall_70}}]]\n",
      "2023-06-24 11:26:07.920144: I tensorflow/core/common_runtime/executor.cc:1197] [/device:CPU:0] (DEBUG INFO) Executor start aborting (this does not indicate an error and you can ignore this message): INVALID_ARGUMENT: You must feed a value for placeholder tensor 'gradients/StatefulPartitionedCall_grad/StatefulPartitionedCall_108' with dtype float and shape [?,7,7,160]\n",
      "\t [[{{node gradients/StatefulPartitionedCall_grad/StatefulPartitionedCall_108}}]]\n",
      "2023-06-24 11:26:07.920229: I tensorflow/core/common_runtime/executor.cc:1197] [/device:CPU:0] (DEBUG INFO) Executor start aborting (this does not indicate an error and you can ignore this message): INVALID_ARGUMENT: You must feed a value for placeholder tensor 'gradients/StatefulPartitionedCall_grad/StatefulPartitionedCall_110' with dtype float and shape [?,7,7,160]\n",
      "\t [[{{node gradients/StatefulPartitionedCall_grad/StatefulPartitionedCall_110}}]]\n",
      "2023-06-24 11:26:07.920284: I tensorflow/core/common_runtime/executor.cc:1197] [/device:CPU:0] (DEBUG INFO) Executor start aborting (this does not indicate an error and you can ignore this message): INVALID_ARGUMENT: You must feed a value for placeholder tensor 'gradients/StatefulPartitionedCall_grad/StatefulPartitionedCall_111' with dtype float and shape [?,7,7,160]\n",
      "\t [[{{node gradients/StatefulPartitionedCall_grad/StatefulPartitionedCall_111}}]]\n",
      "2023-06-24 11:26:07.920369: I tensorflow/core/common_runtime/executor.cc:1197] [/device:CPU:0] (DEBUG INFO) Executor start aborting (this does not indicate an error and you can ignore this message): INVALID_ARGUMENT: You must feed a value for placeholder tensor 'gradients/StatefulPartitionedCall_grad/StatefulPartitionedCall_141' with dtype float and shape [?,7,7,160]\n",
      "\t [[{{node gradients/StatefulPartitionedCall_grad/StatefulPartitionedCall_141}}]]\n",
      "2023-06-24 11:26:07.920456: I tensorflow/core/common_runtime/executor.cc:1197] [/device:CPU:0] (DEBUG INFO) Executor start aborting (this does not indicate an error and you can ignore this message): INVALID_ARGUMENT: You must feed a value for placeholder tensor 'gradients/StatefulPartitionedCall_grad/StatefulPartitionedCall_142' with dtype float and shape [?,7,7,160]\n",
      "\t [[{{node gradients/StatefulPartitionedCall_grad/StatefulPartitionedCall_142}}]]\n",
      "2023-06-24 11:26:07.920557: I tensorflow/core/common_runtime/executor.cc:1197] [/device:CPU:0] (DEBUG INFO) Executor start aborting (this does not indicate an error and you can ignore this message): INVALID_ARGUMENT: You must feed a value for placeholder tensor 'gradients/StatefulPartitionedCall_grad/StatefulPartitionedCall_200' with dtype float and shape [?,14,14,96]\n",
      "\t [[{{node gradients/StatefulPartitionedCall_grad/StatefulPartitionedCall_200}}]]\n",
      "2023-06-24 11:26:07.920643: I tensorflow/core/common_runtime/executor.cc:1197] [/device:CPU:0] (DEBUG INFO) Executor start aborting (this does not indicate an error and you can ignore this message): INVALID_ARGUMENT: You must feed a value for placeholder tensor 'gradients/StatefulPartitionedCall_grad/StatefulPartitionedCall_202' with dtype float and shape [?,14,14,96]\n",
      "\t [[{{node gradients/StatefulPartitionedCall_grad/StatefulPartitionedCall_202}}]]\n",
      "2023-06-24 11:26:07.920730: I tensorflow/core/common_runtime/executor.cc:1197] [/device:CPU:0] (DEBUG INFO) Executor start aborting (this does not indicate an error and you can ignore this message): INVALID_ARGUMENT: You must feed a value for placeholder tensor 'gradients/StatefulPartitionedCall_grad/StatefulPartitionedCall_203' with dtype float and shape [?,14,14,96]\n",
      "\t [[{{node gradients/StatefulPartitionedCall_grad/StatefulPartitionedCall_203}}]]\n",
      "2023-06-24 11:26:07.920829: I tensorflow/core/common_runtime/executor.cc:1197] [/device:CPU:0] (DEBUG INFO) Executor start aborting (this does not indicate an error and you can ignore this message): INVALID_ARGUMENT: You must feed a value for placeholder tensor 'gradients/StatefulPartitionedCall_grad/StatefulPartitionedCall_233' with dtype float and shape [?,14,14,96]\n",
      "\t [[{{node gradients/StatefulPartitionedCall_grad/StatefulPartitionedCall_233}}]]\n",
      "2023-06-24 11:26:07.920915: I tensorflow/core/common_runtime/executor.cc:1197] [/device:CPU:0] (DEBUG INFO) Executor start aborting (this does not indicate an error and you can ignore this message): INVALID_ARGUMENT: You must feed a value for placeholder tensor 'gradients/StatefulPartitionedCall_grad/StatefulPartitionedCall_234' with dtype float and shape [?,14,14,96]\n",
      "\t [[{{node gradients/StatefulPartitionedCall_grad/StatefulPartitionedCall_234}}]]\n",
      "2023-06-24 11:26:07.921002: I tensorflow/core/common_runtime/executor.cc:1197] [/device:CPU:0] (DEBUG INFO) Executor start aborting (this does not indicate an error and you can ignore this message): INVALID_ARGUMENT: You must feed a value for placeholder tensor 'gradients/StatefulPartitionedCall_grad/StatefulPartitionedCall_292' with dtype float and shape [?,14,14,64]\n",
      "\t [[{{node gradients/StatefulPartitionedCall_grad/StatefulPartitionedCall_292}}]]\n",
      "2023-06-24 11:26:07.921087: I tensorflow/core/common_runtime/executor.cc:1197] [/device:CPU:0] (DEBUG INFO) Executor start aborting (this does not indicate an error and you can ignore this message): INVALID_ARGUMENT: You must feed a value for placeholder tensor 'gradients/StatefulPartitionedCall_grad/StatefulPartitionedCall_294' with dtype float and shape [?,14,14,64]\n",
      "\t [[{{node gradients/StatefulPartitionedCall_grad/StatefulPartitionedCall_294}}]]\n",
      "2023-06-24 11:26:07.921145: I tensorflow/core/common_runtime/executor.cc:1197] [/device:CPU:0] (DEBUG INFO) Executor start aborting (this does not indicate an error and you can ignore this message): INVALID_ARGUMENT: You must feed a value for placeholder tensor 'gradients/StatefulPartitionedCall_grad/StatefulPartitionedCall_295' with dtype float and shape [?,14,14,64]\n",
      "\t [[{{node gradients/StatefulPartitionedCall_grad/StatefulPartitionedCall_295}}]]\n",
      "2023-06-24 11:26:07.921234: I tensorflow/core/common_runtime/executor.cc:1197] [/device:CPU:0] (DEBUG INFO) Executor start aborting (this does not indicate an error and you can ignore this message): INVALID_ARGUMENT: You must feed a value for placeholder tensor 'gradients/StatefulPartitionedCall_grad/StatefulPartitionedCall_325' with dtype float and shape [?,14,14,64]\n",
      "\t [[{{node gradients/StatefulPartitionedCall_grad/StatefulPartitionedCall_325}}]]\n",
      "2023-06-24 11:26:07.921321: I tensorflow/core/common_runtime/executor.cc:1197] [/device:CPU:0] (DEBUG INFO) Executor start aborting (this does not indicate an error and you can ignore this message): INVALID_ARGUMENT: You must feed a value for placeholder tensor 'gradients/StatefulPartitionedCall_grad/StatefulPartitionedCall_326' with dtype float and shape [?,14,14,64]\n",
      "\t [[{{node gradients/StatefulPartitionedCall_grad/StatefulPartitionedCall_326}}]]\n",
      "2023-06-24 11:26:07.921405: I tensorflow/core/common_runtime/executor.cc:1197] [/device:CPU:0] (DEBUG INFO) Executor start aborting (this does not indicate an error and you can ignore this message): INVALID_ARGUMENT: You must feed a value for placeholder tensor 'gradients/StatefulPartitionedCall_grad/StatefulPartitionedCall_356' with dtype float and shape [?,14,14,64]\n",
      "\t [[{{node gradients/StatefulPartitionedCall_grad/StatefulPartitionedCall_356}}]]\n",
      "2023-06-24 11:26:07.921489: I tensorflow/core/common_runtime/executor.cc:1197] [/device:CPU:0] (DEBUG INFO) Executor start aborting (this does not indicate an error and you can ignore this message): INVALID_ARGUMENT: You must feed a value for placeholder tensor 'gradients/StatefulPartitionedCall_grad/StatefulPartitionedCall_357' with dtype float and shape [?,14,14,64]\n",
      "\t [[{{node gradients/StatefulPartitionedCall_grad/StatefulPartitionedCall_357}}]]\n",
      "2023-06-24 11:26:07.921578: I tensorflow/core/common_runtime/executor.cc:1197] [/device:CPU:0] (DEBUG INFO) Executor start aborting (this does not indicate an error and you can ignore this message): INVALID_ARGUMENT: You must feed a value for placeholder tensor 'gradients/StatefulPartitionedCall_grad/StatefulPartitionedCall_415' with dtype float and shape [?,28,28,32]\n",
      "\t [[{{node gradients/StatefulPartitionedCall_grad/StatefulPartitionedCall_415}}]]\n",
      "2023-06-24 11:26:07.921663: I tensorflow/core/common_runtime/executor.cc:1197] [/device:CPU:0] (DEBUG INFO) Executor start aborting (this does not indicate an error and you can ignore this message): INVALID_ARGUMENT: You must feed a value for placeholder tensor 'gradients/StatefulPartitionedCall_grad/StatefulPartitionedCall_417' with dtype float and shape [?,28,28,32]\n",
      "\t [[{{node gradients/StatefulPartitionedCall_grad/StatefulPartitionedCall_417}}]]\n",
      "2023-06-24 11:26:07.921748: I tensorflow/core/common_runtime/executor.cc:1197] [/device:CPU:0] (DEBUG INFO) Executor start aborting (this does not indicate an error and you can ignore this message): INVALID_ARGUMENT: You must feed a value for placeholder tensor 'gradients/StatefulPartitionedCall_grad/StatefulPartitionedCall_418' with dtype float and shape [?,28,28,32]\n",
      "\t [[{{node gradients/StatefulPartitionedCall_grad/StatefulPartitionedCall_418}}]]\n",
      "2023-06-24 11:26:07.921836: I tensorflow/core/common_runtime/executor.cc:1197] [/device:CPU:0] (DEBUG INFO) Executor start aborting (this does not indicate an error and you can ignore this message): INVALID_ARGUMENT: You must feed a value for placeholder tensor 'gradients/StatefulPartitionedCall_grad/StatefulPartitionedCall_448' with dtype float and shape [?,28,28,32]\n",
      "\t [[{{node gradients/StatefulPartitionedCall_grad/StatefulPartitionedCall_448}}]]\n",
      "2023-06-24 11:26:07.921925: I tensorflow/core/common_runtime/executor.cc:1197] [/device:CPU:0] (DEBUG INFO) Executor start aborting (this does not indicate an error and you can ignore this message): INVALID_ARGUMENT: You must feed a value for placeholder tensor 'gradients/StatefulPartitionedCall_grad/StatefulPartitionedCall_449' with dtype float and shape [?,28,28,32]\n",
      "\t [[{{node gradients/StatefulPartitionedCall_grad/StatefulPartitionedCall_449}}]]\n",
      "2023-06-24 11:26:07.922030: I tensorflow/core/common_runtime/executor.cc:1197] [/device:CPU:0] (DEBUG INFO) Executor start aborting (this does not indicate an error and you can ignore this message): INVALID_ARGUMENT: You must feed a value for placeholder tensor 'gradients/StatefulPartitionedCall_grad/StatefulPartitionedCall_507' with dtype float and shape [?,56,56,24]\n",
      "\t [[{{node gradients/StatefulPartitionedCall_grad/StatefulPartitionedCall_507}}]]\n",
      "2023-06-24 11:26:07.922120: I tensorflow/core/common_runtime/executor.cc:1197] [/device:CPU:0] (DEBUG INFO) Executor start aborting (this does not indicate an error and you can ignore this message): INVALID_ARGUMENT: You must feed a value for placeholder tensor 'gradients/StatefulPartitionedCall_grad/StatefulPartitionedCall_509' with dtype float and shape [?,56,56,24]\n",
      "\t [[{{node gradients/StatefulPartitionedCall_grad/StatefulPartitionedCall_509}}]]\n",
      "2023-06-24 11:26:07.922209: I tensorflow/core/common_runtime/executor.cc:1197] [/device:CPU:0] (DEBUG INFO) Executor start aborting (this does not indicate an error and you can ignore this message): INVALID_ARGUMENT: You must feed a value for placeholder tensor 'gradients/StatefulPartitionedCall_grad/StatefulPartitionedCall_510' with dtype float and shape [?,56,56,24]\n",
      "\t [[{{node gradients/StatefulPartitionedCall_grad/StatefulPartitionedCall_510}}]]\n",
      "2023-06-24 11:26:07.922297: I tensorflow/core/common_runtime/executor.cc:1197] [/device:CPU:0] (DEBUG INFO) Executor start aborting (this does not indicate an error and you can ignore this message): INVALID_ARGUMENT: You must feed a value for placeholder tensor 'gradients/StatefulPartitionedCall_grad/StatefulPartitionedCall_568' with dtype float and shape [?,112,112,16]\n",
      "\t [[{{node gradients/StatefulPartitionedCall_grad/StatefulPartitionedCall_568}}]]\n",
      "2023-06-24 11:26:07.922387: I tensorflow/core/common_runtime/executor.cc:1197] [/device:CPU:0] (DEBUG INFO) Executor start aborting (this does not indicate an error and you can ignore this message): INVALID_ARGUMENT: You must feed a value for placeholder tensor 'gradients/StatefulPartitionedCall_grad/StatefulPartitionedCall_588' with dtype float and shape [?,112,112,32]\n",
      "\t [[{{node gradients/StatefulPartitionedCall_grad/StatefulPartitionedCall_588}}]]\n",
      "2023-06-24 11:26:07.922478: I tensorflow/core/common_runtime/executor.cc:1197] [/device:CPU:0] (DEBUG INFO) Executor start aborting (this does not indicate an error and you can ignore this message): INVALID_ARGUMENT: You must feed a value for placeholder tensor 'gradients/StatefulPartitionedCall_grad/StatefulPartitionedCall_598' with dtype float and shape [?,224,224,3]\n",
      "\t [[{{node gradients/StatefulPartitionedCall_grad/StatefulPartitionedCall_598}}]]\n",
      "2023-06-24 11:26:07.922579: I tensorflow/core/common_runtime/executor.cc:1197] [/device:CPU:0] (DEBUG INFO) Executor start aborting (this does not indicate an error and you can ignore this message): INVALID_ARGUMENT: You must feed a value for placeholder tensor 'gradients/StatefulPartitionedCall_grad/StatefulPartitionedCall_600' with dtype float and shape [?,224,224,3]\n",
      "\t [[{{node gradients/StatefulPartitionedCall_grad/StatefulPartitionedCall_600}}]]\n",
      "2023-06-24 11:26:07.922673: I tensorflow/core/common_runtime/executor.cc:1197] [/device:CPU:0] (DEBUG INFO) Executor start aborting (this does not indicate an error and you can ignore this message): INVALID_ARGUMENT: You must feed a value for placeholder tensor 'gradients/StatefulPartitionedCall_grad/StatefulPartitionedCall_601' with dtype float\n",
      "\t [[{{node gradients/StatefulPartitionedCall_grad/StatefulPartitionedCall_601}}]]\n",
      "2023-06-24 11:26:07.922768: I tensorflow/core/common_runtime/executor.cc:1197] [/device:CPU:0] (DEBUG INFO) Executor start aborting (this does not indicate an error and you can ignore this message): INVALID_ARGUMENT: You must feed a value for placeholder tensor 'gradients/StatefulPartitionedCall_grad/StatefulPartitionedCall_602' with dtype float and shape [?,224,224,3]\n",
      "\t [[{{node gradients/StatefulPartitionedCall_grad/StatefulPartitionedCall_602}}]]\n",
      "2023-06-24 11:26:07.922864: I tensorflow/core/common_runtime/executor.cc:1197] [/device:CPU:0] (DEBUG INFO) Executor start aborting (this does not indicate an error and you can ignore this message): INVALID_ARGUMENT: You must feed a value for placeholder tensor 'gradients/StatefulPartitionedCall_grad/StatefulPartitionedCall_603' with dtype float\n",
      "\t [[{{node gradients/StatefulPartitionedCall_grad/StatefulPartitionedCall_603}}]]\n"
     ]
    },
    {
     "name": "stdout",
     "output_type": "stream",
     "text": [
      "15/15 [==============================] - ETA: 0s - loss: 0.9120 - accuracy: 0.5598"
     ]
    },
    {
     "name": "stderr",
     "output_type": "stream",
     "text": [
      "2023-06-24 11:26:57.549604: I tensorflow/core/common_runtime/executor.cc:1197] [/device:CPU:0] (DEBUG INFO) Executor start aborting (this does not indicate an error and you can ignore this message): INVALID_ARGUMENT: You must feed a value for placeholder tensor 'Placeholder/_0' with dtype int32\n",
      "\t [[{{node Placeholder/_0}}]]\n"
     ]
    },
    {
     "name": "stdout",
     "output_type": "stream",
     "text": [
      "15/15 [==============================] - 185s 12s/step - loss: 0.9120 - accuracy: 0.5598 - val_loss: 0.7675 - val_accuracy: 0.6665\n",
      "Epoch 2/50\n",
      "15/15 [==============================] - 146s 10s/step - loss: 0.2527 - accuracy: 0.9274 - val_loss: 0.4551 - val_accuracy: 0.8314\n",
      "Epoch 3/50\n",
      "15/15 [==============================] - 113s 8s/step - loss: 0.1566 - accuracy: 0.9509 - val_loss: 0.4091 - val_accuracy: 0.8367\n",
      "Epoch 4/50\n",
      "15/15 [==============================] - 160s 11s/step - loss: 0.1105 - accuracy: 0.9722 - val_loss: 0.3690 - val_accuracy: 0.8458\n",
      "Epoch 5/50\n",
      "15/15 [==============================] - 90s 6s/step - loss: 0.0913 - accuracy: 0.9744 - val_loss: 0.3885 - val_accuracy: 0.8388\n",
      "Epoch 6/50\n",
      "15/15 [==============================] - 121s 9s/step - loss: 0.0792 - accuracy: 0.9786 - val_loss: 0.3744 - val_accuracy: 0.8447\n",
      "Epoch 7/50\n",
      "15/15 [==============================] - 131s 9s/step - loss: 0.0688 - accuracy: 0.9829 - val_loss: 0.3379 - val_accuracy: 0.8666\n",
      "Epoch 8/50\n",
      "15/15 [==============================] - 111s 8s/step - loss: 0.0626 - accuracy: 0.9829 - val_loss: 0.3833 - val_accuracy: 0.8383\n",
      "Epoch 9/50\n",
      "15/15 [==============================] - 102s 7s/step - loss: 0.0567 - accuracy: 0.9872 - val_loss: 0.3630 - val_accuracy: 0.8426\n",
      "Epoch 10/50\n",
      "15/15 [==============================] - 81s 6s/step - loss: 0.0478 - accuracy: 0.9936 - val_loss: 0.3360 - val_accuracy: 0.8618\n",
      "Epoch 11/50\n",
      "15/15 [==============================] - 80s 6s/step - loss: 0.0415 - accuracy: 0.9979 - val_loss: 0.3453 - val_accuracy: 0.8591\n",
      "Epoch 12/50\n",
      "15/15 [==============================] - 90s 6s/step - loss: 0.0487 - accuracy: 0.9872 - val_loss: 0.3434 - val_accuracy: 0.8565\n",
      "Epoch 13/50\n",
      "15/15 [==============================] - 84s 6s/step - loss: 0.0429 - accuracy: 0.9893 - val_loss: 0.3336 - val_accuracy: 0.8655\n",
      "Epoch 14/50\n",
      "15/15 [==============================] - 75s 5s/step - loss: 0.0394 - accuracy: 0.9915 - val_loss: 0.3475 - val_accuracy: 0.8554\n",
      "Epoch 15/50\n",
      "15/15 [==============================] - 101s 7s/step - loss: 0.0303 - accuracy: 0.9979 - val_loss: 0.3323 - val_accuracy: 0.8613\n",
      "Epoch 16/50\n",
      "15/15 [==============================] - 81s 6s/step - loss: 0.0300 - accuracy: 0.9957 - val_loss: 0.3283 - val_accuracy: 0.8725\n",
      "Epoch 17/50\n",
      "15/15 [==============================] - 83s 6s/step - loss: 0.0338 - accuracy: 0.9936 - val_loss: 0.3071 - val_accuracy: 0.8778\n",
      "Epoch 18/50\n",
      "15/15 [==============================] - 90s 6s/step - loss: 0.0270 - accuracy: 0.9936 - val_loss: 0.3240 - val_accuracy: 0.8693\n",
      "Epoch 19/50\n",
      "15/15 [==============================] - 99s 7s/step - loss: 0.0277 - accuracy: 0.9915 - val_loss: 0.3408 - val_accuracy: 0.8666\n",
      "Epoch 20/50\n",
      "15/15 [==============================] - 100s 7s/step - loss: 0.0318 - accuracy: 0.9915 - val_loss: 0.3475 - val_accuracy: 0.8538\n",
      "Epoch 21/50\n",
      "15/15 [==============================] - 73s 5s/step - loss: 0.0320 - accuracy: 0.9872 - val_loss: 0.3081 - val_accuracy: 0.8741\n",
      "Epoch 22/50\n",
      "15/15 [==============================] - 73s 5s/step - loss: 0.0357 - accuracy: 0.9915 - val_loss: 0.3345 - val_accuracy: 0.8618\n",
      "Epoch 23/50\n",
      "15/15 [==============================] - 76s 5s/step - loss: 0.0250 - accuracy: 0.9936 - val_loss: 0.3540 - val_accuracy: 0.8575\n",
      "Epoch 24/50\n",
      "15/15 [==============================] - 88s 6s/step - loss: 0.0212 - accuracy: 0.9957 - val_loss: 0.3136 - val_accuracy: 0.8719\n",
      "Epoch 25/50\n",
      "15/15 [==============================] - 74s 5s/step - loss: 0.0226 - accuracy: 0.9957 - val_loss: 0.3550 - val_accuracy: 0.8495\n",
      "Epoch 26/50\n",
      "15/15 [==============================] - 78s 5s/step - loss: 0.0289 - accuracy: 0.9936 - val_loss: 0.3241 - val_accuracy: 0.8687\n",
      "Epoch 27/50\n",
      "15/15 [==============================] - 78s 5s/step - loss: 0.0192 - accuracy: 0.9979 - val_loss: 0.3054 - val_accuracy: 0.8805\n",
      "Epoch 28/50\n",
      "15/15 [==============================] - 100s 7s/step - loss: 0.0195 - accuracy: 0.9979 - val_loss: 0.3232 - val_accuracy: 0.8698\n",
      "Epoch 29/50\n",
      "15/15 [==============================] - 86s 6s/step - loss: 0.0205 - accuracy: 0.9936 - val_loss: 0.3341 - val_accuracy: 0.8655\n",
      "Epoch 30/50\n",
      "15/15 [==============================] - 79s 6s/step - loss: 0.0116 - accuracy: 1.0000 - val_loss: 0.3862 - val_accuracy: 0.8479\n",
      "Epoch 31/50\n",
      "15/15 [==============================] - 81s 6s/step - loss: 0.0221 - accuracy: 0.9893 - val_loss: 0.3247 - val_accuracy: 0.8725\n",
      "Epoch 32/50\n",
      "15/15 [==============================] - 93s 6s/step - loss: 0.0111 - accuracy: 1.0000 - val_loss: 0.3486 - val_accuracy: 0.8682\n",
      "Epoch 33/50\n",
      "15/15 [==============================] - 90s 6s/step - loss: 0.0175 - accuracy: 0.9979 - val_loss: 0.3142 - val_accuracy: 0.8805\n",
      "Epoch 34/50\n",
      "15/15 [==============================] - 88s 6s/step - loss: 0.0174 - accuracy: 1.0000 - val_loss: 0.3525 - val_accuracy: 0.8639\n",
      "Epoch 35/50\n",
      "15/15 [==============================] - 82s 6s/step - loss: 0.0122 - accuracy: 1.0000 - val_loss: 0.3288 - val_accuracy: 0.8746\n",
      "Epoch 36/50\n",
      "15/15 [==============================] - 81s 6s/step - loss: 0.0134 - accuracy: 0.9979 - val_loss: 0.3550 - val_accuracy: 0.8559\n",
      "Epoch 37/50\n",
      "15/15 [==============================] - 78s 5s/step - loss: 0.0200 - accuracy: 0.9957 - val_loss: 0.3314 - val_accuracy: 0.8773\n",
      "Epoch 38/50\n",
      "15/15 [==============================] - 97s 7s/step - loss: 0.0144 - accuracy: 1.0000 - val_loss: 0.3427 - val_accuracy: 0.8698\n",
      "Epoch 39/50\n",
      "15/15 [==============================] - 73s 5s/step - loss: 0.0145 - accuracy: 0.9979 - val_loss: 0.3679 - val_accuracy: 0.8591\n",
      "Epoch 40/50\n",
      "15/15 [==============================] - 68s 5s/step - loss: 0.0116 - accuracy: 1.0000 - val_loss: 0.3648 - val_accuracy: 0.8575\n",
      "Epoch 41/50\n",
      "15/15 [==============================] - 64s 4s/step - loss: 0.0111 - accuracy: 0.9979 - val_loss: 0.3598 - val_accuracy: 0.8634\n",
      "Epoch 42/50\n",
      "15/15 [==============================] - 68s 5s/step - loss: 0.0141 - accuracy: 0.9979 - val_loss: 0.3364 - val_accuracy: 0.8714\n",
      "Epoch 43/50\n",
      "15/15 [==============================] - 65s 5s/step - loss: 0.0139 - accuracy: 0.9957 - val_loss: 0.3210 - val_accuracy: 0.8735\n",
      "Epoch 44/50\n",
      "15/15 [==============================] - 67s 5s/step - loss: 0.0094 - accuracy: 1.0000 - val_loss: 0.3084 - val_accuracy: 0.8810\n",
      "Epoch 45/50\n",
      "15/15 [==============================] - 69s 5s/step - loss: 0.0160 - accuracy: 0.9936 - val_loss: 0.3743 - val_accuracy: 0.8597\n",
      "Epoch 46/50\n",
      "15/15 [==============================] - 72s 5s/step - loss: 0.0206 - accuracy: 0.9936 - val_loss: 0.3683 - val_accuracy: 0.8613\n",
      "Epoch 47/50\n",
      "15/15 [==============================] - 74s 5s/step - loss: 0.0257 - accuracy: 0.9957 - val_loss: 0.3316 - val_accuracy: 0.8671\n",
      "Epoch 48/50\n",
      "15/15 [==============================] - 73s 5s/step - loss: 0.0115 - accuracy: 0.9957 - val_loss: 0.3716 - val_accuracy: 0.8591\n",
      "Epoch 49/50\n",
      "15/15 [==============================] - 83s 6s/step - loss: 0.0108 - accuracy: 0.9957 - val_loss: 0.3410 - val_accuracy: 0.8735\n",
      "Epoch 50/50\n",
      "15/15 [==============================] - 73s 5s/step - loss: 0.0120 - accuracy: 0.9957 - val_loss: 0.3037 - val_accuracy: 0.8831\n"
     ]
    }
   ],
   "source": [
    "#Entrenar el modelo\n",
    "EPOCHS = 50\n",
    "\n",
    "historial = model.fit(\n",
    "    data_gen_train, epochs=EPOCHS, batch_size=32,\n",
    "    validation_data=data_gen_test\n",
    ")\n",
    "\n",
    "\n",
    "#model.fit(data_gen_train,\n",
    "#          epochs=EPOCHS,\n",
    "#          batch_size=32,\n",
    "#          validation_data=data_gen_test)"
   ]
  },
  {
   "cell_type": "code",
   "execution_count": null,
   "metadata": {},
   "outputs": [
    {
     "name": "stderr",
     "output_type": "stream",
     "text": [
      "WARNING:absl:Found untraced functions such as _update_step_xla while saving (showing 1 of 1). These functions will not be directly callable after loading.\n"
     ]
    },
    {
     "name": "stdout",
     "output_type": "stream",
     "text": [
      "INFO:tensorflow:Assets written to: model_versions/assets\n"
     ]
    },
    {
     "name": "stderr",
     "output_type": "stream",
     "text": [
      "INFO:tensorflow:Assets written to: model_versions/assets\n"
     ]
    }
   ],
   "source": [
    "model.save('model_versions')"
   ]
  },
  {
   "cell_type": "code",
   "execution_count": null,
   "metadata": {},
   "outputs": [
    {
     "data": {
      "image/png": "[encoded data removed]",
      "text/plain": [
       "<Figure size 800x800 with 2 Axes>"
      ]
     },
     "metadata": {},
     "output_type": "display_data"
    }
   ],
   "source": [
    "acc = historial.history['accuracy']\n",
    "val_acc = historial.history['val_accuracy']\n",
    "\n",
    "loss = historial.history['loss']\n",
    "val_loss = historial.history['val_loss']\n",
    "\n",
    "rango_epocas = range(50)\n",
    "\n",
    "plt.figure(figsize=(8,8))\n",
    "plt.subplot(1,2,1)\n",
    "plt.plot(rango_epocas, acc, label='Precisión Entrenamiento')\n",
    "plt.plot(rango_epocas, val_acc, label='Precisión Pruebas')\n",
    "plt.legend(loc='lower right')\n",
    "plt.title('Precisión de entrenamiento y pruebas')\n",
    "\n",
    "plt.subplot(1,2,2)\n",
    "plt.plot(rango_epocas, loss, label='Pérdida de entrenamiento')\n",
    "plt.plot(rango_epocas, val_loss, label='Pérdida de pruebas')\n",
    "plt.legend(loc='upper right')\n",
    "plt.title('Pérdida de entrenamiento y pruebas')\n",
    "plt.show()"
   ]
  },
  {
   "cell_type": "code",
   "execution_count": null,
   "metadata": {},
   "outputs": [],
   "source": [
    "#overfitting."
   ]
  },
  {
   "cell_type": "code",
   "execution_count": null,
   "metadata": {},
   "outputs": [],
   "source": []
  },
  {
   "cell_type": "code",
   "execution_count": null,
   "metadata": {},
   "outputs": [],
   "source": [
    "\n",
    "\n"
   ]
  },
  {
   "cell_type": "code",
   "execution_count": null,
   "metadata": {},
   "outputs": [],
   "source": [
    "#process_video(VIDEO, model)"
   ]
  },
  {
   "cell_type": "code",
   "execution_count": null,
   "metadata": {},
   "outputs": [],
   "source": []
  }
 ],
 "metadata": {
  "kernelspec": {
   "display_name": "safesight",
   "language": "python",
   "name": "python3"
  },
  "language_info": {
   "codemirror_mode": {
    "name": "ipython",
    "version": 3
   },
   "file_extension": ".py",
   "mimetype": "text/x-python",
   "name": "python",
   "nbconvert_exporter": "python",
   "pygments_lexer": "ipython3",
   "version": "3.10.6"
  },
  "orig_nbformat": 4
 },
 "nbformat": 4,
 "nbformat_minor": 2
}
